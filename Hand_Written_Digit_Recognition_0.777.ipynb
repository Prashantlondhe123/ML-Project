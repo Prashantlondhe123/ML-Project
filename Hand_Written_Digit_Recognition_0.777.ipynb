{
  "nbformat": 4,
  "nbformat_minor": 0,
  "metadata": {
    "colab": {
      "name": "Hand Written Digit Recognition.ipynb",
      "provenance": []
    },
    "kernelspec": {
      "name": "python3",
      "display_name": "Python 3"
    },
    "language_info": {
      "name": "python"
    }
  },
  "cells": [
    {
      "cell_type": "markdown",
      "source": [
        "#Project: Hand Written Digit Recognition using Genetic Algorithm"
      ],
      "metadata": {
        "id": "OMfMGEpf0H-y"
      }
    },
    {
      "cell_type": "code",
      "execution_count": 1,
      "metadata": {
        "colab": {
          "base_uri": "https://localhost:8080/"
        },
        "id": "bdMwNHCVmXE0",
        "outputId": "d6a56bc7-363b-4ee5-f50d-39a8d06b4fe9"
      },
      "outputs": [
        {
          "output_type": "stream",
          "name": "stdout",
          "text": [
            "Collecting sklearn-genetic\n",
            "  Downloading sklearn_genetic-0.5.1-py3-none-any.whl (11 kB)\n",
            "Requirement already satisfied: scikit-learn>=0.23 in /usr/local/lib/python3.7/dist-packages (from sklearn-genetic) (1.0.2)\n",
            "Requirement already satisfied: multiprocess in /usr/local/lib/python3.7/dist-packages (from sklearn-genetic) (0.70.12.2)\n",
            "Requirement already satisfied: numpy in /usr/local/lib/python3.7/dist-packages (from sklearn-genetic) (1.19.5)\n",
            "Collecting deap>=1.0.2\n",
            "  Downloading deap-1.3.1-cp37-cp37m-manylinux_2_5_x86_64.manylinux1_x86_64.manylinux_2_12_x86_64.manylinux2010_x86_64.whl (160 kB)\n",
            "\u001b[K     |████████████████████████████████| 160 kB 7.0 MB/s \n",
            "\u001b[?25hRequirement already satisfied: threadpoolctl>=2.0.0 in /usr/local/lib/python3.7/dist-packages (from scikit-learn>=0.23->sklearn-genetic) (3.0.0)\n",
            "Requirement already satisfied: scipy>=1.1.0 in /usr/local/lib/python3.7/dist-packages (from scikit-learn>=0.23->sklearn-genetic) (1.4.1)\n",
            "Requirement already satisfied: joblib>=0.11 in /usr/local/lib/python3.7/dist-packages (from scikit-learn>=0.23->sklearn-genetic) (1.1.0)\n",
            "Requirement already satisfied: dill>=0.3.4 in /usr/local/lib/python3.7/dist-packages (from multiprocess->sklearn-genetic) (0.3.4)\n",
            "Installing collected packages: deap, sklearn-genetic\n",
            "Successfully installed deap-1.3.1 sklearn-genetic-0.5.1\n"
          ]
        }
      ],
      "source": [
        "pip install sklearn-genetic"
      ]
    },
    {
      "cell_type": "code",
      "source": [
        "import random\n",
        "import numpy as np\n",
        "from sklearn import datasets, linear_model\n",
        "from genetic_selection import GeneticSelectionCV\n",
        "\n",
        "# When using multiple processes (n_jobs != 1), protect the entry point of the program if necessary\n",
        "if __name__ == \"__main__\":\n",
        "\n",
        "    # Set seed for reproducibility\n",
        "    random.seed(42)\n",
        "    np.random.seed(42)\n",
        "\n",
        "    digit = datasets.load_digits()\n",
        "\n",
        "    # Some noisy data not correlated\n",
        "    E = np.random.uniform(0, 0.1, size=(len(digit.data), 20))\n",
        "\n",
        "    X = np.hstack((digit.data, E))\n",
        "    y = digit.target\n",
        "\n",
        "    estimator = linear_model.LogisticRegression(solver=\"liblinear\", multi_class=\"ovr\")\n",
        "\n",
        "    selector = GeneticSelectionCV(\n",
        "        estimator,\n",
        "        cv=5,\n",
        "        verbose=1,\n",
        "        scoring=\"accuracy\",\n",
        "        max_features=7,\n",
        "        n_population=50,\n",
        "        crossover_proba=0.5,\n",
        "        mutation_proba=0.2,\n",
        "        n_generations=40,\n",
        "        crossover_independent_proba=0.5,\n",
        "        mutation_independent_proba=0.05,\n",
        "        tournament_size=3,\n",
        "        n_gen_no_change=10,\n",
        "        caching=True,\n",
        "        n_jobs=-1,\n",
        "    )\n",
        "    model = selector.fit(X, y)"
      ],
      "metadata": {
        "colab": {
          "base_uri": "https://localhost:8080/"
        },
        "id": "p99DA80umYrz",
        "outputId": "7054aeef-1270-40d6-ad1d-82579e5e78d5"
      },
      "execution_count": 29,
      "outputs": [
        {
          "output_type": "stream",
          "name": "stdout",
          "text": [
            "Selecting features with genetic algorithm.\n",
            "gen\tnevals\tavg                            \tstd                            \tmin                            \tmax                            \n",
            "0  \t50    \t[ 0.316751  4.48      0.022101]\t[ 0.140987  1.920833  0.012109]\t[ 0.086252  1.        0.001459]\t[ 0.642772  7.        0.050674]\n",
            "1  \t34    \t[-1599.656257     6.42      1600.024823]\t[ 3666.210579     2.154901  3666.049722]\t[-10000.            3.            0.009134]\t[     0.642772     15.        10000.      ]\n",
            "2  \t33    \t[-2999.680109     6.72      3000.022701]\t[ 4582.785113     1.990377  4582.560834]\t[-10000.            3.            0.013045]\t[     0.642772     12.        10000.      ]\n",
            "3  \t28    \t[-1999.592294     6.66      2000.027355]\t[ 4000.203854     2.159722  3999.986323]\t[-10000.            3.            0.008576]\t[     0.667807     14.        10000.      ]\n",
            "4  \t33    \t[-2799.600143     6.9       2800.02612 ]\t[ 4490.238219     1.627882  4489.972576]\t[-10000.            4.            0.018954]\t[     0.668378     11.        10000.      ]\n",
            "5  \t31    \t[-2999.603591     7.14      3000.023809]\t[ 4582.835206     2.172648  4582.560108]\t[-10000.            4.            0.018954]\t[     0.71231     12.       10000.     ]   \n",
            "6  \t32    \t[-2399.537193     7.2       2400.028689]\t[ 4271.091377     1.8       4270.815179]\t[-10000.            4.            0.015268]\t[     0.71231     14.       10000.     ]   \n",
            "7  \t39    \t[-3199.56987      7.56      3200.027401]\t[ 4665.056583     2.264155  4664.742719]\t[-10000.            5.            0.015268]\t[     0.744596     16.        10000.      ]\n",
            "8  \t21    \t[-2199.498099     7.24      2200.03213 ]\t[ 4142.729588     2.035289  4142.445972]\t[-10000.            4.            0.015268]\t[     0.744596     14.        10000.      ]\n",
            "9  \t26    \t[-3599.575635     7.4       3600.028212]\t[ 4800.318274     1.496663  4799.978841]\t[-10000.            4.            0.014122]\t[     0.744596     11.        10000.      ]\n",
            "10 \t28    \t[-2599.497993     7.48      2600.033567]\t[ 4386.640004     1.552289  4386.322543]\t[-10000.            5.            0.032503]\t[     0.744596     12.        10000.      ]\n",
            "11 \t34    \t[-2399.470863     7.82      2400.034428]\t[ 4271.12865      2.355334  4270.811954]\t[-10000.            5.            0.011417]\t[     0.744596     19.        10000.      ]\n",
            "12 \t21    \t[-2399.462437     7.76      2400.033204]\t[ 4271.133385     1.849973  4270.812642]\t[-10000.            5.            0.025741]\t[     0.744596     14.        10000.      ]\n",
            "13 \t22    \t[-1799.40397      7.52      1800.032043]\t[ 3842.153795     1.345214  3841.85953 ]\t[-10000.            6.            0.014474]\t[     0.744596     13.        10000.      ]\n",
            "14 \t26    \t[-2599.458817     7.86      2600.026212]\t[ 4386.663226     1.833139  4386.326903]\t[-10000.           4.           0.02207]   \t[     0.744596     13.        10000.      ]\n",
            "15 \t25    \t[-2799.467498     7.92      2800.024439]\t[ 4490.320937     1.798221  4489.973623]\t[-10000.            6.            0.032503]\t[     0.744596     14.        10000.      ]\n",
            "16 \t30    \t[-3399.509212     8.06      3400.02177 ]\t[ 4737.439971     1.725225  4737.072087]\t[-10000.            7.            0.032503]\t[     0.744596     13.        10000.      ]\n",
            "17 \t31    \t[-1999.404969     7.6       2000.026321]\t[ 4000.297516     1.6       3999.98684 ]\t[-10000.            7.            0.032503]\t[     0.744596     15.        10000.      ]\n"
          ]
        }
      ]
    },
    {
      "cell_type": "code",
      "source": [
        "model.predict(X)"
      ],
      "metadata": {
        "colab": {
          "base_uri": "https://localhost:8080/"
        },
        "id": "Bijo5sy8nAbz",
        "outputId": "f936e0a5-dbae-40df-c3fc-88b94d5b2a5a"
      },
      "execution_count": 30,
      "outputs": [
        {
          "output_type": "execute_result",
          "data": {
            "text/plain": [
              "array([0, 1, 8, ..., 8, 9, 8])"
            ]
          },
          "metadata": {},
          "execution_count": 30
        }
      ]
    },
    {
      "cell_type": "code",
      "source": [
        "X[1]"
      ],
      "metadata": {
        "colab": {
          "base_uri": "https://localhost:8080/"
        },
        "id": "2xLBZk5xnbDl",
        "outputId": "b15d15a1-e685-41c9-a58a-dc161bb6c821"
      },
      "execution_count": 31,
      "outputs": [
        {
          "output_type": "execute_result",
          "data": {
            "text/plain": [
              "array([0.00000000e+00, 0.00000000e+00, 0.00000000e+00, 1.20000000e+01,\n",
              "       1.30000000e+01, 5.00000000e+00, 0.00000000e+00, 0.00000000e+00,\n",
              "       0.00000000e+00, 0.00000000e+00, 0.00000000e+00, 1.10000000e+01,\n",
              "       1.60000000e+01, 9.00000000e+00, 0.00000000e+00, 0.00000000e+00,\n",
              "       0.00000000e+00, 0.00000000e+00, 3.00000000e+00, 1.50000000e+01,\n",
              "       1.60000000e+01, 6.00000000e+00, 0.00000000e+00, 0.00000000e+00,\n",
              "       0.00000000e+00, 7.00000000e+00, 1.50000000e+01, 1.60000000e+01,\n",
              "       1.60000000e+01, 2.00000000e+00, 0.00000000e+00, 0.00000000e+00,\n",
              "       0.00000000e+00, 0.00000000e+00, 1.00000000e+00, 1.60000000e+01,\n",
              "       1.60000000e+01, 3.00000000e+00, 0.00000000e+00, 0.00000000e+00,\n",
              "       0.00000000e+00, 0.00000000e+00, 1.00000000e+00, 1.60000000e+01,\n",
              "       1.60000000e+01, 6.00000000e+00, 0.00000000e+00, 0.00000000e+00,\n",
              "       0.00000000e+00, 0.00000000e+00, 1.00000000e+00, 1.60000000e+01,\n",
              "       1.60000000e+01, 6.00000000e+00, 0.00000000e+00, 0.00000000e+00,\n",
              "       0.00000000e+00, 0.00000000e+00, 0.00000000e+00, 1.10000000e+01,\n",
              "       1.60000000e+01, 1.00000000e+01, 0.00000000e+00, 0.00000000e+00,\n",
              "       6.11852895e-02, 1.39493861e-02, 2.92144649e-02, 3.66361843e-02,\n",
              "       4.56069984e-02, 7.85175961e-02, 1.99673782e-02, 5.14234438e-02,\n",
              "       5.92414569e-02, 4.64504127e-03, 6.07544852e-02, 1.70524124e-02,\n",
              "       6.50515930e-03, 9.48885537e-02, 9.65632033e-02, 8.08397348e-02,\n",
              "       3.04613769e-02, 9.76721140e-03, 6.84233027e-02, 4.40152494e-02])"
            ]
          },
          "metadata": {},
          "execution_count": 31
        }
      ]
    },
    {
      "cell_type": "code",
      "source": [
        "model.predict([[0.00000000e+00, 0.00000000e+00, 0.00000000e+00, 1.20000000e+01,\n",
        "       1.30000000e+01, 5.00000000e+00, 0.00000000e+00, 0.00000000e+00,\n",
        "       0.00000000e+00, 0.00000000e+00, 0.00000000e+00, 1.10000000e+01,\n",
        "       1.60000000e+01, 9.00000000e+00, 0.00000000e+00, 0.00000000e+00,\n",
        "       0.00000000e+00, 0.00000000e+00, 3.00000000e+00, 1.50000000e+01,\n",
        "       1.60000000e+01, 6.00000000e+00, 0.00000000e+00, 0.00000000e+00,\n",
        "       0.00000000e+00, 7.00000000e+00, 1.50000000e+01, 1.60000000e+01,\n",
        "       1.60000000e+01, 2.00000000e+00, 0.00000000e+00, 0.00000000e+00,\n",
        "       0.00000000e+00, 0.00000000e+00, 1.00000000e+00, 1.60000000e+01,\n",
        "       1.60000000e+01, 3.00000000e+00, 0.00000000e+00, 0.00000000e+00,\n",
        "       0.00000000e+00, 0.00000000e+00, 1.00000000e+00, 1.60000000e+01,\n",
        "       1.60000000e+01, 6.00000000e+00, 0.00000000e+00, 0.00000000e+00,\n",
        "       0.00000000e+00, 0.00000000e+00, 1.00000000e+00, 1.60000000e+01,\n",
        "       1.60000000e+01, 6.00000000e+00, 0.00000000e+00, 0.00000000e+00,\n",
        "       0.00000000e+00, 0.00000000e+00, 0.00000000e+00, 1.10000000e+01,\n",
        "       1.60000000e+01, 1.00000000e+01, 0.00000000e+00, 0.00000000e+00,\n",
        "       6.11852895e-02, 1.39493861e-02, 2.92144649e-02, 3.66361843e-02,\n",
        "       4.56069984e-02, 7.85175961e-02, 1.99673782e-02, 5.14234438e-02,\n",
        "       5.92414569e-02, 4.64504127e-03, 6.07544852e-02, 1.70524124e-02,\n",
        "       6.50515930e-03, 9.48885537e-02, 9.65632033e-02, 8.08397348e-02,\n",
        "       3.04613769e-02, 9.76721140e-03, 6.84233027e-02, 4.40152494e-02]])"
      ],
      "metadata": {
        "colab": {
          "base_uri": "https://localhost:8080/"
        },
        "id": "4YhgjUy5n028",
        "outputId": "b0443c16-fd8d-491d-f721-f49f989931d3"
      },
      "execution_count": 32,
      "outputs": [
        {
          "output_type": "execute_result",
          "data": {
            "text/plain": [
              "array([1])"
            ]
          },
          "metadata": {},
          "execution_count": 32
        }
      ]
    },
    {
      "cell_type": "code",
      "source": [
        "model.score(X,y)"
      ],
      "metadata": {
        "id": "Up9Q00h1oLfV",
        "outputId": "4d724831-55e2-4ffb-f168-0ebc0018baca",
        "colab": {
          "base_uri": "https://localhost:8080/"
        }
      },
      "execution_count": 33,
      "outputs": [
        {
          "output_type": "execute_result",
          "data": {
            "text/plain": [
              "0.7779632721202003"
            ]
          },
          "metadata": {},
          "execution_count": 33
        }
      ]
    },
    {
      "cell_type": "code",
      "source": [
        ""
      ],
      "metadata": {
        "id": "gLKB4OjSGd3r"
      },
      "execution_count": null,
      "outputs": []
    }
  ]
}