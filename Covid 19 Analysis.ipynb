{
 "cells": [
  {
   "cell_type": "code",
   "execution_count": null,
   "id": "d4f9eb94",
   "metadata": {},
   "outputs": [],
   "source": [
    "#OM SAI RAM"
   ]
  },
  {
   "cell_type": "code",
   "execution_count": 13,
   "id": "2d0bbf1e",
   "metadata": {},
   "outputs": [],
   "source": [
    "import pandas as pd\n",
    "import numpy as np\n",
    "import seaborn as sns\n",
    "import matplotlib.pyplot as plt"
   ]
  },
  {
   "cell_type": "code",
   "execution_count": 15,
   "id": "db04ab51",
   "metadata": {},
   "outputs": [],
   "source": [
    "data=pd.read_csv(r\"C:\\Users\\sai\\Desktop\\DATA SCIENCE\\archive\\covid.csv\")"
   ]
  },
  {
   "cell_type": "code",
   "execution_count": 16,
   "id": "bffd8998",
   "metadata": {},
   "outputs": [
    {
     "data": {
      "text/html": [
       "<div>\n",
       "<style scoped>\n",
       "    .dataframe tbody tr th:only-of-type {\n",
       "        vertical-align: middle;\n",
       "    }\n",
       "\n",
       "    .dataframe tbody tr th {\n",
       "        vertical-align: top;\n",
       "    }\n",
       "\n",
       "    .dataframe thead th {\n",
       "        text-align: right;\n",
       "    }\n",
       "</style>\n",
       "<table border=\"1\" class=\"dataframe\">\n",
       "  <thead>\n",
       "    <tr style=\"text-align: right;\">\n",
       "      <th></th>\n",
       "      <th>SNo</th>\n",
       "      <th>Date</th>\n",
       "      <th>Country</th>\n",
       "      <th>RegionCode</th>\n",
       "      <th>RegionName</th>\n",
       "      <th>Latitude</th>\n",
       "      <th>Longitude</th>\n",
       "      <th>HospitalizedPatients</th>\n",
       "      <th>IntensiveCarePatients</th>\n",
       "      <th>TotalHospitalizedPatients</th>\n",
       "      <th>HomeConfinement</th>\n",
       "      <th>CurrentPositiveCases</th>\n",
       "      <th>NewPositiveCases</th>\n",
       "      <th>Recovered</th>\n",
       "      <th>Deaths</th>\n",
       "      <th>TotalPositiveCases</th>\n",
       "      <th>TestsPerformed</th>\n",
       "    </tr>\n",
       "  </thead>\n",
       "  <tbody>\n",
       "    <tr>\n",
       "      <th>0</th>\n",
       "      <td>0</td>\n",
       "      <td>2020-02-24T18:00:00</td>\n",
       "      <td>ITA</td>\n",
       "      <td>13</td>\n",
       "      <td>Abruzzo</td>\n",
       "      <td>42.351222</td>\n",
       "      <td>13.398438</td>\n",
       "      <td>0</td>\n",
       "      <td>0</td>\n",
       "      <td>0</td>\n",
       "      <td>0</td>\n",
       "      <td>0</td>\n",
       "      <td>0</td>\n",
       "      <td>0</td>\n",
       "      <td>0</td>\n",
       "      <td>0</td>\n",
       "      <td>NaN</td>\n",
       "    </tr>\n",
       "    <tr>\n",
       "      <th>1</th>\n",
       "      <td>1</td>\n",
       "      <td>2020-02-24T18:00:00</td>\n",
       "      <td>ITA</td>\n",
       "      <td>17</td>\n",
       "      <td>Basilicata</td>\n",
       "      <td>40.639471</td>\n",
       "      <td>15.805148</td>\n",
       "      <td>0</td>\n",
       "      <td>0</td>\n",
       "      <td>0</td>\n",
       "      <td>0</td>\n",
       "      <td>0</td>\n",
       "      <td>0</td>\n",
       "      <td>0</td>\n",
       "      <td>0</td>\n",
       "      <td>0</td>\n",
       "      <td>NaN</td>\n",
       "    </tr>\n",
       "    <tr>\n",
       "      <th>2</th>\n",
       "      <td>2</td>\n",
       "      <td>2020-02-24T18:00:00</td>\n",
       "      <td>ITA</td>\n",
       "      <td>18</td>\n",
       "      <td>Calabria</td>\n",
       "      <td>38.905976</td>\n",
       "      <td>16.594402</td>\n",
       "      <td>0</td>\n",
       "      <td>0</td>\n",
       "      <td>0</td>\n",
       "      <td>0</td>\n",
       "      <td>0</td>\n",
       "      <td>0</td>\n",
       "      <td>0</td>\n",
       "      <td>0</td>\n",
       "      <td>0</td>\n",
       "      <td>NaN</td>\n",
       "    </tr>\n",
       "    <tr>\n",
       "      <th>3</th>\n",
       "      <td>3</td>\n",
       "      <td>2020-02-24T18:00:00</td>\n",
       "      <td>ITA</td>\n",
       "      <td>15</td>\n",
       "      <td>Campania</td>\n",
       "      <td>40.839566</td>\n",
       "      <td>14.250850</td>\n",
       "      <td>0</td>\n",
       "      <td>0</td>\n",
       "      <td>0</td>\n",
       "      <td>0</td>\n",
       "      <td>0</td>\n",
       "      <td>0</td>\n",
       "      <td>0</td>\n",
       "      <td>0</td>\n",
       "      <td>0</td>\n",
       "      <td>NaN</td>\n",
       "    </tr>\n",
       "    <tr>\n",
       "      <th>4</th>\n",
       "      <td>4</td>\n",
       "      <td>2020-02-24T18:00:00</td>\n",
       "      <td>ITA</td>\n",
       "      <td>8</td>\n",
       "      <td>Emilia-Romagna</td>\n",
       "      <td>44.494367</td>\n",
       "      <td>11.341721</td>\n",
       "      <td>10</td>\n",
       "      <td>2</td>\n",
       "      <td>12</td>\n",
       "      <td>6</td>\n",
       "      <td>18</td>\n",
       "      <td>18</td>\n",
       "      <td>0</td>\n",
       "      <td>0</td>\n",
       "      <td>18</td>\n",
       "      <td>NaN</td>\n",
       "    </tr>\n",
       "  </tbody>\n",
       "</table>\n",
       "</div>"
      ],
      "text/plain": [
       "   SNo                 Date Country  RegionCode      RegionName   Latitude  \\\n",
       "0    0  2020-02-24T18:00:00     ITA          13         Abruzzo  42.351222   \n",
       "1    1  2020-02-24T18:00:00     ITA          17      Basilicata  40.639471   \n",
       "2    2  2020-02-24T18:00:00     ITA          18        Calabria  38.905976   \n",
       "3    3  2020-02-24T18:00:00     ITA          15        Campania  40.839566   \n",
       "4    4  2020-02-24T18:00:00     ITA           8  Emilia-Romagna  44.494367   \n",
       "\n",
       "   Longitude  HospitalizedPatients  IntensiveCarePatients  \\\n",
       "0  13.398438                     0                      0   \n",
       "1  15.805148                     0                      0   \n",
       "2  16.594402                     0                      0   \n",
       "3  14.250850                     0                      0   \n",
       "4  11.341721                    10                      2   \n",
       "\n",
       "   TotalHospitalizedPatients  HomeConfinement  CurrentPositiveCases  \\\n",
       "0                          0                0                     0   \n",
       "1                          0                0                     0   \n",
       "2                          0                0                     0   \n",
       "3                          0                0                     0   \n",
       "4                         12                6                    18   \n",
       "\n",
       "   NewPositiveCases  Recovered  Deaths  TotalPositiveCases  TestsPerformed  \n",
       "0                 0          0       0                   0             NaN  \n",
       "1                 0          0       0                   0             NaN  \n",
       "2                 0          0       0                   0             NaN  \n",
       "3                 0          0       0                   0             NaN  \n",
       "4                18          0       0                  18             NaN  "
      ]
     },
     "execution_count": 16,
     "metadata": {},
     "output_type": "execute_result"
    }
   ],
   "source": [
    "data.head()"
   ]
  },
  {
   "cell_type": "code",
   "execution_count": 17,
   "id": "a85093a0",
   "metadata": {},
   "outputs": [
    {
     "data": {
      "text/plain": [
       "Index(['SNo', 'Date', 'Country', 'RegionCode', 'RegionName', 'Latitude',\n",
       "       'Longitude', 'HospitalizedPatients', 'IntensiveCarePatients',\n",
       "       'TotalHospitalizedPatients', 'HomeConfinement', 'CurrentPositiveCases',\n",
       "       'NewPositiveCases', 'Recovered', 'Deaths', 'TotalPositiveCases',\n",
       "       'TestsPerformed'],\n",
       "      dtype='object')"
      ]
     },
     "execution_count": 17,
     "metadata": {},
     "output_type": "execute_result"
    }
   ],
   "source": [
    "data.columns"
   ]
  },
  {
   "cell_type": "code",
   "execution_count": 19,
   "id": "a478efb1",
   "metadata": {},
   "outputs": [
    {
     "data": {
      "text/html": [
       "<div>\n",
       "<style scoped>\n",
       "    .dataframe tbody tr th:only-of-type {\n",
       "        vertical-align: middle;\n",
       "    }\n",
       "\n",
       "    .dataframe tbody tr th {\n",
       "        vertical-align: top;\n",
       "    }\n",
       "\n",
       "    .dataframe thead th {\n",
       "        text-align: right;\n",
       "    }\n",
       "</style>\n",
       "<table border=\"1\" class=\"dataframe\">\n",
       "  <thead>\n",
       "    <tr style=\"text-align: right;\">\n",
       "      <th></th>\n",
       "      <th>SNo</th>\n",
       "      <th>Date</th>\n",
       "      <th>Country</th>\n",
       "      <th>RegionCode</th>\n",
       "      <th>RegionName</th>\n",
       "      <th>Latitude</th>\n",
       "      <th>Longitude</th>\n",
       "      <th>HospitalizedPatients</th>\n",
       "      <th>IntensiveCarePatients</th>\n",
       "      <th>TotalHospitalizedPatients</th>\n",
       "      <th>HomeConfinement</th>\n",
       "      <th>CurrentPositiveCases</th>\n",
       "      <th>NewPositiveCases</th>\n",
       "      <th>Recovered</th>\n",
       "      <th>Deaths</th>\n",
       "      <th>TotalPositiveCases</th>\n",
       "      <th>TestsPerformed</th>\n",
       "    </tr>\n",
       "  </thead>\n",
       "  <tbody>\n",
       "    <tr>\n",
       "      <th>6022</th>\n",
       "      <td>6022</td>\n",
       "      <td>2020-12-06T17:00:00</td>\n",
       "      <td>ITA</td>\n",
       "      <td>19</td>\n",
       "      <td>Sicilia</td>\n",
       "      <td>38.115697</td>\n",
       "      <td>13.362357</td>\n",
       "      <td>1367</td>\n",
       "      <td>213</td>\n",
       "      <td>1580</td>\n",
       "      <td>38166</td>\n",
       "      <td>39746</td>\n",
       "      <td>1022</td>\n",
       "      <td>29984</td>\n",
       "      <td>1759</td>\n",
       "      <td>71489</td>\n",
       "      <td>692062.0</td>\n",
       "    </tr>\n",
       "    <tr>\n",
       "      <th>6023</th>\n",
       "      <td>6023</td>\n",
       "      <td>2020-12-06T17:00:00</td>\n",
       "      <td>ITA</td>\n",
       "      <td>9</td>\n",
       "      <td>Toscana</td>\n",
       "      <td>43.769231</td>\n",
       "      <td>11.255889</td>\n",
       "      <td>1360</td>\n",
       "      <td>252</td>\n",
       "      <td>1612</td>\n",
       "      <td>27587</td>\n",
       "      <td>29199</td>\n",
       "      <td>753</td>\n",
       "      <td>76331</td>\n",
       "      <td>2867</td>\n",
       "      <td>108397</td>\n",
       "      <td>983103.0</td>\n",
       "    </tr>\n",
       "    <tr>\n",
       "      <th>6024</th>\n",
       "      <td>6024</td>\n",
       "      <td>2020-12-06T17:00:00</td>\n",
       "      <td>ITA</td>\n",
       "      <td>10</td>\n",
       "      <td>Umbria</td>\n",
       "      <td>43.106758</td>\n",
       "      <td>12.388247</td>\n",
       "      <td>332</td>\n",
       "      <td>60</td>\n",
       "      <td>392</td>\n",
       "      <td>5673</td>\n",
       "      <td>6065</td>\n",
       "      <td>234</td>\n",
       "      <td>18619</td>\n",
       "      <td>460</td>\n",
       "      <td>25144</td>\n",
       "      <td>231538.0</td>\n",
       "    </tr>\n",
       "    <tr>\n",
       "      <th>6025</th>\n",
       "      <td>6025</td>\n",
       "      <td>2020-12-06T17:00:00</td>\n",
       "      <td>ITA</td>\n",
       "      <td>2</td>\n",
       "      <td>Valle d'Aosta</td>\n",
       "      <td>45.737503</td>\n",
       "      <td>7.320149</td>\n",
       "      <td>102</td>\n",
       "      <td>8</td>\n",
       "      <td>110</td>\n",
       "      <td>877</td>\n",
       "      <td>987</td>\n",
       "      <td>34</td>\n",
       "      <td>5406</td>\n",
       "      <td>333</td>\n",
       "      <td>6726</td>\n",
       "      <td>34644.0</td>\n",
       "    </tr>\n",
       "    <tr>\n",
       "      <th>6026</th>\n",
       "      <td>6026</td>\n",
       "      <td>2020-12-06T17:00:00</td>\n",
       "      <td>ITA</td>\n",
       "      <td>5</td>\n",
       "      <td>Veneto</td>\n",
       "      <td>45.434905</td>\n",
       "      <td>12.338452</td>\n",
       "      <td>2508</td>\n",
       "      <td>308</td>\n",
       "      <td>2816</td>\n",
       "      <td>73988</td>\n",
       "      <td>76804</td>\n",
       "      <td>3444</td>\n",
       "      <td>84235</td>\n",
       "      <td>4210</td>\n",
       "      <td>165249</td>\n",
       "      <td>1090932.0</td>\n",
       "    </tr>\n",
       "  </tbody>\n",
       "</table>\n",
       "</div>"
      ],
      "text/plain": [
       "       SNo                 Date Country  RegionCode     RegionName   Latitude  \\\n",
       "6022  6022  2020-12-06T17:00:00     ITA          19        Sicilia  38.115697   \n",
       "6023  6023  2020-12-06T17:00:00     ITA           9        Toscana  43.769231   \n",
       "6024  6024  2020-12-06T17:00:00     ITA          10         Umbria  43.106758   \n",
       "6025  6025  2020-12-06T17:00:00     ITA           2  Valle d'Aosta  45.737503   \n",
       "6026  6026  2020-12-06T17:00:00     ITA           5         Veneto  45.434905   \n",
       "\n",
       "      Longitude  HospitalizedPatients  IntensiveCarePatients  \\\n",
       "6022  13.362357                  1367                    213   \n",
       "6023  11.255889                  1360                    252   \n",
       "6024  12.388247                   332                     60   \n",
       "6025   7.320149                   102                      8   \n",
       "6026  12.338452                  2508                    308   \n",
       "\n",
       "      TotalHospitalizedPatients  HomeConfinement  CurrentPositiveCases  \\\n",
       "6022                       1580            38166                 39746   \n",
       "6023                       1612            27587                 29199   \n",
       "6024                        392             5673                  6065   \n",
       "6025                        110              877                   987   \n",
       "6026                       2816            73988                 76804   \n",
       "\n",
       "      NewPositiveCases  Recovered  Deaths  TotalPositiveCases  TestsPerformed  \n",
       "6022              1022      29984    1759               71489        692062.0  \n",
       "6023               753      76331    2867              108397        983103.0  \n",
       "6024               234      18619     460               25144        231538.0  \n",
       "6025                34       5406     333                6726         34644.0  \n",
       "6026              3444      84235    4210              165249       1090932.0  "
      ]
     },
     "execution_count": 19,
     "metadata": {},
     "output_type": "execute_result"
    }
   ],
   "source": [
    "data.tail()"
   ]
  },
  {
   "cell_type": "code",
   "execution_count": 20,
   "id": "af0cb3bc",
   "metadata": {},
   "outputs": [
    {
     "data": {
      "text/html": [
       "<div>\n",
       "<style scoped>\n",
       "    .dataframe tbody tr th:only-of-type {\n",
       "        vertical-align: middle;\n",
       "    }\n",
       "\n",
       "    .dataframe tbody tr th {\n",
       "        vertical-align: top;\n",
       "    }\n",
       "\n",
       "    .dataframe thead th {\n",
       "        text-align: right;\n",
       "    }\n",
       "</style>\n",
       "<table border=\"1\" class=\"dataframe\">\n",
       "  <thead>\n",
       "    <tr style=\"text-align: right;\">\n",
       "      <th></th>\n",
       "      <th>SNo</th>\n",
       "      <th>RegionCode</th>\n",
       "      <th>Latitude</th>\n",
       "      <th>Longitude</th>\n",
       "      <th>HospitalizedPatients</th>\n",
       "      <th>IntensiveCarePatients</th>\n",
       "      <th>TotalHospitalizedPatients</th>\n",
       "      <th>HomeConfinement</th>\n",
       "      <th>CurrentPositiveCases</th>\n",
       "      <th>NewPositiveCases</th>\n",
       "      <th>Recovered</th>\n",
       "      <th>Deaths</th>\n",
       "      <th>TotalPositiveCases</th>\n",
       "      <th>TestsPerformed</th>\n",
       "    </tr>\n",
       "  </thead>\n",
       "  <tbody>\n",
       "    <tr>\n",
       "      <th>count</th>\n",
       "      <td>6027.000000</td>\n",
       "      <td>6027.000000</td>\n",
       "      <td>6027.000000</td>\n",
       "      <td>6027.000000</td>\n",
       "      <td>6027.000000</td>\n",
       "      <td>6027.000000</td>\n",
       "      <td>6027.000000</td>\n",
       "      <td>6027.000000</td>\n",
       "      <td>6027.000000</td>\n",
       "      <td>6027.000000</td>\n",
       "      <td>6027.000000</td>\n",
       "      <td>6027.000000</td>\n",
       "      <td>6027.00000</td>\n",
       "      <td>4.872000e+03</td>\n",
       "    </tr>\n",
       "    <tr>\n",
       "      <th>mean</th>\n",
       "      <td>3013.000000</td>\n",
       "      <td>11.857143</td>\n",
       "      <td>43.046293</td>\n",
       "      <td>12.225955</td>\n",
       "      <td>509.093579</td>\n",
       "      <td>55.892318</td>\n",
       "      <td>564.985897</td>\n",
       "      <td>5722.911399</td>\n",
       "      <td>6287.897296</td>\n",
       "      <td>286.885847</td>\n",
       "      <td>9337.852829</td>\n",
       "      <td>1474.370665</td>\n",
       "      <td>17100.12361</td>\n",
       "      <td>2.600810e+05</td>\n",
       "    </tr>\n",
       "    <tr>\n",
       "      <th>std</th>\n",
       "      <td>1739.989368</td>\n",
       "      <td>6.274319</td>\n",
       "      <td>2.488987</td>\n",
       "      <td>2.659168</td>\n",
       "      <td>1272.731157</td>\n",
       "      <td>134.957979</td>\n",
       "      <td>1403.362341</td>\n",
       "      <td>15892.768789</td>\n",
       "      <td>16804.884786</td>\n",
       "      <td>818.450458</td>\n",
       "      <td>20551.265039</td>\n",
       "      <td>3365.190225</td>\n",
       "      <td>36934.67627</td>\n",
       "      <td>3.339818e+05</td>\n",
       "    </tr>\n",
       "    <tr>\n",
       "      <th>min</th>\n",
       "      <td>0.000000</td>\n",
       "      <td>1.000000</td>\n",
       "      <td>38.115697</td>\n",
       "      <td>7.320149</td>\n",
       "      <td>0.000000</td>\n",
       "      <td>0.000000</td>\n",
       "      <td>0.000000</td>\n",
       "      <td>0.000000</td>\n",
       "      <td>0.000000</td>\n",
       "      <td>-229.000000</td>\n",
       "      <td>0.000000</td>\n",
       "      <td>0.000000</td>\n",
       "      <td>0.00000</td>\n",
       "      <td>3.482000e+03</td>\n",
       "    </tr>\n",
       "    <tr>\n",
       "      <th>25%</th>\n",
       "      <td>1506.500000</td>\n",
       "      <td>7.000000</td>\n",
       "      <td>41.125596</td>\n",
       "      <td>11.121231</td>\n",
       "      <td>16.000000</td>\n",
       "      <td>1.000000</td>\n",
       "      <td>17.000000</td>\n",
       "      <td>139.000000</td>\n",
       "      <td>168.000000</td>\n",
       "      <td>4.000000</td>\n",
       "      <td>734.000000</td>\n",
       "      <td>98.000000</td>\n",
       "      <td>1383.50000</td>\n",
       "      <td>6.507375e+04</td>\n",
       "    </tr>\n",
       "    <tr>\n",
       "      <th>50%</th>\n",
       "      <td>3013.000000</td>\n",
       "      <td>12.000000</td>\n",
       "      <td>43.616760</td>\n",
       "      <td>12.388247</td>\n",
       "      <td>93.000000</td>\n",
       "      <td>9.000000</td>\n",
       "      <td>106.000000</td>\n",
       "      <td>743.000000</td>\n",
       "      <td>905.000000</td>\n",
       "      <td>31.000000</td>\n",
       "      <td>2840.000000</td>\n",
       "      <td>389.000000</td>\n",
       "      <td>4613.00000</td>\n",
       "      <td>1.365560e+05</td>\n",
       "    </tr>\n",
       "    <tr>\n",
       "      <th>75%</th>\n",
       "      <td>4519.500000</td>\n",
       "      <td>17.000000</td>\n",
       "      <td>45.434905</td>\n",
       "      <td>13.768136</td>\n",
       "      <td>384.500000</td>\n",
       "      <td>46.000000</td>\n",
       "      <td>434.000000</td>\n",
       "      <td>3057.000000</td>\n",
       "      <td>3735.000000</td>\n",
       "      <td>159.500000</td>\n",
       "      <td>8450.500000</td>\n",
       "      <td>1102.500000</td>\n",
       "      <td>15304.00000</td>\n",
       "      <td>3.043542e+05</td>\n",
       "    </tr>\n",
       "    <tr>\n",
       "      <th>max</th>\n",
       "      <td>6026.000000</td>\n",
       "      <td>22.000000</td>\n",
       "      <td>46.499335</td>\n",
       "      <td>16.867367</td>\n",
       "      <td>12077.000000</td>\n",
       "      <td>1381.000000</td>\n",
       "      <td>13328.000000</td>\n",
       "      <td>155066.000000</td>\n",
       "      <td>164406.000000</td>\n",
       "      <td>11489.000000</td>\n",
       "      <td>289706.000000</td>\n",
       "      <td>23024.000000</td>\n",
       "      <td>429109.00000</td>\n",
       "      <td>2.415099e+06</td>\n",
       "    </tr>\n",
       "  </tbody>\n",
       "</table>\n",
       "</div>"
      ],
      "text/plain": [
       "               SNo   RegionCode     Latitude    Longitude  \\\n",
       "count  6027.000000  6027.000000  6027.000000  6027.000000   \n",
       "mean   3013.000000    11.857143    43.046293    12.225955   \n",
       "std    1739.989368     6.274319     2.488987     2.659168   \n",
       "min       0.000000     1.000000    38.115697     7.320149   \n",
       "25%    1506.500000     7.000000    41.125596    11.121231   \n",
       "50%    3013.000000    12.000000    43.616760    12.388247   \n",
       "75%    4519.500000    17.000000    45.434905    13.768136   \n",
       "max    6026.000000    22.000000    46.499335    16.867367   \n",
       "\n",
       "       HospitalizedPatients  IntensiveCarePatients  TotalHospitalizedPatients  \\\n",
       "count           6027.000000            6027.000000                6027.000000   \n",
       "mean             509.093579              55.892318                 564.985897   \n",
       "std             1272.731157             134.957979                1403.362341   \n",
       "min                0.000000               0.000000                   0.000000   \n",
       "25%               16.000000               1.000000                  17.000000   \n",
       "50%               93.000000               9.000000                 106.000000   \n",
       "75%              384.500000              46.000000                 434.000000   \n",
       "max            12077.000000            1381.000000               13328.000000   \n",
       "\n",
       "       HomeConfinement  CurrentPositiveCases  NewPositiveCases      Recovered  \\\n",
       "count      6027.000000           6027.000000       6027.000000    6027.000000   \n",
       "mean       5722.911399           6287.897296        286.885847    9337.852829   \n",
       "std       15892.768789          16804.884786        818.450458   20551.265039   \n",
       "min           0.000000              0.000000       -229.000000       0.000000   \n",
       "25%         139.000000            168.000000          4.000000     734.000000   \n",
       "50%         743.000000            905.000000         31.000000    2840.000000   \n",
       "75%        3057.000000           3735.000000        159.500000    8450.500000   \n",
       "max      155066.000000         164406.000000      11489.000000  289706.000000   \n",
       "\n",
       "             Deaths  TotalPositiveCases  TestsPerformed  \n",
       "count   6027.000000          6027.00000    4.872000e+03  \n",
       "mean    1474.370665         17100.12361    2.600810e+05  \n",
       "std     3365.190225         36934.67627    3.339818e+05  \n",
       "min        0.000000             0.00000    3.482000e+03  \n",
       "25%       98.000000          1383.50000    6.507375e+04  \n",
       "50%      389.000000          4613.00000    1.365560e+05  \n",
       "75%     1102.500000         15304.00000    3.043542e+05  \n",
       "max    23024.000000        429109.00000    2.415099e+06  "
      ]
     },
     "execution_count": 20,
     "metadata": {},
     "output_type": "execute_result"
    }
   ],
   "source": [
    "data.describe()"
   ]
  },
  {
   "cell_type": "code",
   "execution_count": 21,
   "id": "850e8c1c",
   "metadata": {},
   "outputs": [
    {
     "data": {
      "text/plain": [
       "SNo                             0\n",
       "Date                            0\n",
       "Country                         0\n",
       "RegionCode                      0\n",
       "RegionName                      0\n",
       "Latitude                        0\n",
       "Longitude                       0\n",
       "HospitalizedPatients            0\n",
       "IntensiveCarePatients           0\n",
       "TotalHospitalizedPatients       0\n",
       "HomeConfinement                 0\n",
       "CurrentPositiveCases            0\n",
       "NewPositiveCases                0\n",
       "Recovered                       0\n",
       "Deaths                          0\n",
       "TotalPositiveCases              0\n",
       "TestsPerformed               1155\n",
       "dtype: int64"
      ]
     },
     "execution_count": 21,
     "metadata": {},
     "output_type": "execute_result"
    }
   ],
   "source": [
    "data.isnull().sum()"
   ]
  },
  {
   "cell_type": "markdown",
   "id": "25a65f60",
   "metadata": {},
   "source": [
    "# RELATING THE VARIABLE WITH SCATTERPLOTS"
   ]
  },
  {
   "cell_type": "code",
   "execution_count": 24,
   "id": "a09daa38",
   "metadata": {},
   "outputs": [
    {
     "data": {
      "text/plain": [
       "<seaborn.axisgrid.FacetGrid at 0x1c8aa5f6fd0>"
      ]
     },
     "execution_count": 24,
     "metadata": {},
     "output_type": "execute_result"
    },
    {
     "data": {
      "image/png": "[encoded data removed]",
      "text/plain": [
       "<Figure size 360x360 with 1 Axes>"
      ]
     },
     "metadata": {
      "needs_background": "light"
     },
     "output_type": "display_data"
    }
   ],
   "source": [
    "sns.relplot(x=\"CurrentPositiveCases\",y=\"Recovered\",data=data)"
   ]
  },
  {
   "cell_type": "code",
   "execution_count": 25,
   "id": "5ddf0aaa",
   "metadata": {},
   "outputs": [
    {
     "data": {
      "text/plain": [
       "<seaborn.axisgrid.FacetGrid at 0x1c8aa5f67c0>"
      ]
     },
     "execution_count": 25,
     "metadata": {},
     "output_type": "execute_result"
    },
    {
     "data": {
      "image/png": "[encoded data removed]",
      "text/plain": [
       "<Figure size 360x360 with 1 Axes>"
      ]
     },
     "metadata": {
      "needs_background": "light"
     },
     "output_type": "display_data"
    }
   ],
   "source": [
    "sns.relplot(x=\"Recovered\",y=\"Deaths\",data=data)"
   ]
  },
  {
   "cell_type": "code",
   "execution_count": 26,
   "id": "2b406417",
   "metadata": {},
   "outputs": [
    {
     "data": {
      "text/plain": [
       "<seaborn.axisgrid.FacetGrid at 0x1c8aa3dcfa0>"
      ]
     },
     "execution_count": 26,
     "metadata": {},
     "output_type": "execute_result"
    },
    {
     "data": {
      "image/png": "[encoded data removed]",
      "text/plain": [
       "<Figure size 360x360 with 1 Axes>"
      ]
     },
     "metadata": {
      "needs_background": "light"
     },
     "output_type": "display_data"
    }
   ],
   "source": [
    "sns.relplot(x=\"TotalHospitalizedPatients\",y=\"TotalPositiveCases\",data=data)"
   ]
  },
  {
   "cell_type": "code",
   "execution_count": 28,
   "id": "589dcbbc",
   "metadata": {},
   "outputs": [
    {
     "data": {
      "text/plain": [
       "<seaborn.axisgrid.FacetGrid at 0x1c8a65795b0>"
      ]
     },
     "execution_count": 28,
     "metadata": {},
     "output_type": "execute_result"
    },
    {
     "data": {
      "image/png": "[encoded data removed]",
      "text/plain": [
       "<Figure size 360x360 with 1 Axes>"
      ]
     },
     "metadata": {
      "needs_background": "light"
     },
     "output_type": "display_data"
    }
   ],
   "source": [
    "sns.relplot(x=\"TotalHospitalizedPatients\",y=\"TotalPositiveCases\",kind='line',data=data)"
   ]
  }
 ],
 "metadata": {
  "kernelspec": {
   "display_name": "Python 3",
   "language": "python",
   "name": "python3"
  },
  "language_info": {
   "codemirror_mode": {
    "name": "ipython",
    "version": 3
   },
   "file_extension": ".py",
   "mimetype": "text/x-python",
   "name": "python",
   "nbconvert_exporter": "python",
   "pygments_lexer": "ipython3",
   "version": "3.8.8"
  }
 },
 "nbformat": 4,
 "nbformat_minor": 5
}
