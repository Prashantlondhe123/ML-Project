{
  "nbformat": 4,
  "nbformat_minor": 0,
  "metadata": {
    "colab": {
      "name": "Digits Classification using Genetic Algorithm(sklearn-genetic-opt).ipynb",
      "provenance": [],
      "authorship_tag": "ABX9TyPIb61nfaFoEWLgeSpVenGJ",
      "include_colab_link": true
    },
    "kernelspec": {
      "name": "python3",
      "display_name": "Python 3"
    },
    "language_info": {
      "name": "python"
    }
  },
  "cells": [
    {
      "cell_type": "markdown",
      "metadata": {
        "id": "view-in-github",
        "colab_type": "text"
      },
      "source": [
        "<a href=\"https://colab.research.google.com/github/Prashantlondhe123/ML-Project/blob/main/Digits_Classification_using_Genetic_Algorithm(sklearn_genetic_opt).ipynb\" target=\"_parent\"><img src=\"https://colab.research.google.com/assets/colab-badge.svg\" alt=\"Open In Colab\"/></a>"
      ]
    },
    {
      "cell_type": "markdown",
      "source": [
        "#Digits Classification using Genetic Algorithm(sklearn-genetic-opt)\n",
        "##"
      ],
      "metadata": {
        "id": "0d-ubYiUvYb5"
      }
    },
    {
      "cell_type": "code",
      "source": [
        "pip install sklearn-genetic-opt"
      ],
      "metadata": {
        "colab": {
          "base_uri": "https://localhost:8080/"
        },
        "id": "U4t0-lsNv0Dd",
        "outputId": "f87899f5-6047-45c0-c15d-3eaca99ad885"
      },
      "execution_count": 6,
      "outputs": [
        {
          "output_type": "stream",
          "name": "stdout",
          "text": [
            "Collecting sklearn-genetic-opt\n",
            "  Downloading sklearn_genetic_opt-0.8.0-py3-none-any.whl (30 kB)\n",
            "Requirement already satisfied: tqdm>=4.61.1 in /usr/local/lib/python3.7/dist-packages (from sklearn-genetic-opt) (4.62.3)\n",
            "Requirement already satisfied: numpy>=1.14.5 in /usr/local/lib/python3.7/dist-packages (from sklearn-genetic-opt) (1.19.5)\n",
            "Requirement already satisfied: scikit-learn>=0.21.3 in /usr/local/lib/python3.7/dist-packages (from sklearn-genetic-opt) (1.0.2)\n",
            "Requirement already satisfied: deap>=1.3.1 in /usr/local/lib/python3.7/dist-packages (from sklearn-genetic-opt) (1.3.1)\n",
            "Requirement already satisfied: threadpoolctl>=2.0.0 in /usr/local/lib/python3.7/dist-packages (from scikit-learn>=0.21.3->sklearn-genetic-opt) (3.0.0)\n",
            "Requirement already satisfied: scipy>=1.1.0 in /usr/local/lib/python3.7/dist-packages (from scikit-learn>=0.21.3->sklearn-genetic-opt) (1.4.1)\n",
            "Requirement already satisfied: joblib>=0.11 in /usr/local/lib/python3.7/dist-packages (from scikit-learn>=0.21.3->sklearn-genetic-opt) (1.1.0)\n",
            "Installing collected packages: sklearn-genetic-opt\n",
            "Successfully installed sklearn-genetic-opt-0.8.0\n"
          ]
        }
      ]
    },
    {
      "cell_type": "code",
      "execution_count": 7,
      "metadata": {
        "id": "1hefFm7KvTSe"
      },
      "outputs": [],
      "source": [
        "from sklearn_genetic import GASearchCV\n",
        "from sklearn_genetic.space import Categorical, Integer, Continuous\n",
        "from sklearn.model_selection import train_test_split, StratifiedKFold\n",
        "from sklearn.tree import DecisionTreeClassifier\n",
        "from sklearn.datasets import load_digits\n",
        "from sklearn.metrics import accuracy_score\n",
        "from sklearn_genetic.callbacks import DeltaThreshold, TimerStopping"
      ]
    },
    {
      "cell_type": "markdown",
      "source": [
        "##Import the data and split it in train and test sets"
      ],
      "metadata": {
        "id": "hFZXFNpBxMo2"
      }
    },
    {
      "cell_type": "code",
      "source": [
        "data = load_digits()\n",
        "label_names = data[\"target_names\"]\n",
        "y = data[\"target\"]\n",
        "X = data[\"data\"]\n",
        "\n",
        "X_train, X_test, y_train, y_test = train_test_split(X, y, test_size=0.33, random_state=42)"
      ],
      "metadata": {
        "id": "nR7DVM4mvVm5"
      },
      "execution_count": 8,
      "outputs": []
    },
    {
      "cell_type": "markdown",
      "source": [
        "##Define the classifier to tune and the param grid"
      ],
      "metadata": {
        "id": "BbU9VRqAxhOV"
      }
    },
    {
      "cell_type": "code",
      "source": [
        "clf = DecisionTreeClassifier()\n",
        "\n",
        "params_grid = {\n",
        "    \"min_weight_fraction_leaf\": Continuous(0, 0.5),\n",
        "    \"criterion\": Categorical([\"gini\", \"entropy\"]),\n",
        "    \"max_depth\": Integer(2, 20),\n",
        "    \"max_leaf_nodes\": Integer(2, 30),\n",
        "}"
      ],
      "metadata": {
        "id": "JFMD79CCxcAA"
      },
      "execution_count": 9,
      "outputs": []
    },
    {
      "cell_type": "markdown",
      "source": [
        "##Create the CV strategy and optionally some callbacks"
      ],
      "metadata": {
        "id": "hRb3GHEExpsG"
      }
    },
    {
      "cell_type": "code",
      "source": [
        "cv = StratifiedKFold(n_splits=3, shuffle=True)\n",
        "\n",
        "delta_callback = DeltaThreshold(threshold=0.001, metric=\"fitness\")\n",
        "timer_callback = TimerStopping(total_seconds=60)\n",
        "\n",
        "callbacks = [delta_callback, timer_callback]"
      ],
      "metadata": {
        "id": "2PKcTynHxltM"
      },
      "execution_count": 10,
      "outputs": []
    },
    {
      "cell_type": "markdown",
      "source": [
        "##Define the GASearchCV options"
      ],
      "metadata": {
        "id": "3BjtsG53xz-M"
      }
    },
    {
      "cell_type": "code",
      "source": [
        "evolved_estimator = GASearchCV(\n",
        "    clf,\n",
        "    cv=cv,\n",
        "    scoring=\"accuracy\",\n",
        "    population_size=16,\n",
        "    generations=30,\n",
        "    crossover_probability=0.9,\n",
        "    mutation_probability=0.05,\n",
        "    param_grid=params_grid,\n",
        "    algorithm=\"eaSimple\",\n",
        "    n_jobs=-1,\n",
        "    verbose=True)"
      ],
      "metadata": {
        "id": "VqLfGDD9xvvY"
      },
      "execution_count": 11,
      "outputs": []
    },
    {
      "cell_type": "markdown",
      "source": [
        "##Fit the model and see some results"
      ],
      "metadata": {
        "id": "nmV20CCtx84R"
      }
    },
    {
      "cell_type": "code",
      "source": [
        "evolved_estimator.fit(X_train, y_train, callbacks=callbacks)\n",
        "y_predict_ga = evolved_estimator.predict(X_test)\n",
        "accuracy = accuracy_score(y_test, y_predict_ga)"
      ],
      "metadata": {
        "colab": {
          "base_uri": "https://localhost:8080/"
        },
        "id": "4oc1zw0ox5DG",
        "outputId": "fc141d4a-7247-47a4-9a46-cc641673fb83"
      },
      "execution_count": 12,
      "outputs": [
        {
          "output_type": "stream",
          "name": "stdout",
          "text": [
            "gen\tnevals\tfitness \tfitness_std\tfitness_max\tfitness_min\n",
            "0  \t16    \t0.348712\t0.165854   \t0.738155   \t0.190357   \n",
            "1  \t14    \t0.462438\t0.152882   \t0.738155   \t0.299252   \n",
            "2  \t12    \t0.583022\t0.142689   \t0.752286   \t0.33749    \n",
            "3  \t14    \t0.701839\t0.0503182  \t0.76143    \t0.60931    \n",
            "4  \t14    \t0.729946\t0.0281108  \t0.76143    \t0.633416   \n",
            "5  \t8     \t0.74096 \t0.0141645  \t0.76143    \t0.719867   \n",
            "6  \t14    \t0.738986\t0.0145202  \t0.76143    \t0.715711   \n",
            "7  \t14    \t0.720802\t0.047032   \t0.76143    \t0.544472   \n",
            "8  \t10    \t0.733479\t0.0148812  \t0.76143    \t0.708229   \n",
            "9  \t14    \t0.732751\t0.0160999  \t0.769742   \t0.716542   \n",
            "INFO: DeltaThreshold callback met its criteria\n",
            "INFO: Stopping the algorithm\n"
          ]
        }
      ]
    },
    {
      "cell_type": "code",
      "source": [
        "print(evolved_estimator.best_params_)\n",
        "print(\"accuracy score: \", \"{:.2f}\".format(accuracy))"
      ],
      "metadata": {
        "colab": {
          "base_uri": "https://localhost:8080/"
        },
        "id": "opzy7UA7yBG5",
        "outputId": "0da6218b-0bc0-48e7-e319-45a5c8bdfa1b"
      },
      "execution_count": 13,
      "outputs": [
        {
          "output_type": "stream",
          "name": "stdout",
          "text": [
            "{'min_weight_fraction_leaf': 0.030075144501579554, 'criterion': 'entropy', 'max_depth': 18, 'max_leaf_nodes': 29}\n",
            "accuracy score:  0.76\n"
          ]
        }
      ]
    },
    {
      "cell_type": "code",
      "source": [
        "evolved_estimator.predict(X_test)"
      ],
      "metadata": {
        "colab": {
          "base_uri": "https://localhost:8080/"
        },
        "id": "U9yb-FTnyFmM",
        "outputId": "8b260ce9-4c2d-4261-c0b9-de4b211b407e"
      },
      "execution_count": 14,
      "outputs": [
        {
          "output_type": "execute_result",
          "data": {
            "text/plain": [
              "array([6, 9, 3, 7, 6, 8, 8, 3, 5, 7, 1, 1, 4, 0, 6, 8, 3, 7, 8, 8, 4, 3,\n",
              "       9, 7, 8, 6, 3, 8, 6, 7, 6, 9, 3, 6, 8, 6, 9, 4, 7, 6, 6, 9, 6, 7,\n",
              "       6, 1, 3, 0, 6, 5, 5, 1, 5, 5, 6, 0, 3, 0, 0, 1, 5, 4, 5, 8, 6, 5,\n",
              "       7, 0, 7, 5, 9, 5, 5, 4, 7, 0, 6, 8, 5, 9, 9, 0, 2, 9, 8, 0, 6, 4,\n",
              "       6, 9, 1, 2, 8, 3, 5, 7, 9, 4, 8, 4, 4, 3, 5, 3, 1, 1, 5, 1, 4, 8,\n",
              "       9, 7, 4, 6, 1, 9, 8, 7, 8, 7, 2, 6, 9, 5, 0, 6, 0, 7, 5, 8, 7, 5,\n",
              "       7, 9, 0, 6, 6, 1, 2, 8, 0, 9, 4, 6, 9, 1, 6, 9, 0, 5, 5, 6, 6, 0,\n",
              "       6, 4, 3, 3, 3, 5, 7, 6, 9, 0, 6, 5, 2, 6, 5, 7, 9, 1, 4, 8, 1, 3,\n",
              "       7, 5, 2, 2, 3, 9, 8, 0, 3, 8, 1, 5, 6, 9, 9, 8, 6, 0, 1, 8, 3, 6,\n",
              "       1, 8, 5, 9, 5, 7, 1, 9, 4, 8, 1, 5, 4, 4, 9, 6, 1, 8, 6, 0, 5, 8,\n",
              "       8, 7, 7, 6, 4, 6, 6, 4, 9, 2, 3, 6, 7, 1, 5, 3, 4, 7, 6, 5, 8, 5,\n",
              "       5, 1, 4, 8, 8, 8, 9, 5, 7, 0, 2, 2, 2, 3, 6, 8, 5, 3, 6, 0, 9, 7,\n",
              "       7, 0, 1, 0, 4, 5, 1, 5, 3, 6, 0, 4, 1, 0, 0, 7, 6, 5, 9, 7, 3, 5,\n",
              "       5, 9, 9, 8, 5, 3, 3, 1, 0, 5, 8, 3, 4, 0, 8, 7, 6, 4, 3, 4, 5, 0,\n",
              "       5, 5, 3, 3, 1, 4, 2, 1, 7, 0, 1, 5, 6, 1, 2, 8, 7, 0, 6, 4, 8, 8,\n",
              "       5, 1, 8, 1, 5, 8, 1, 9, 8, 6, 0, 1, 1, 0, 5, 9, 8, 9, 5, 8, 7, 7,\n",
              "       1, 2, 7, 6, 3, 1, 7, 5, 6, 0, 0, 3, 0, 5, 0, 0, 4, 1, 6, 8, 6, 5,\n",
              "       9, 6, 3, 1, 8, 8, 4, 8, 3, 8, 9, 8, 8, 6, 0, 6, 3, 3, 7, 6, 6, 5,\n",
              "       8, 2, 1, 1, 6, 6, 1, 4, 8, 3, 4, 0, 5, 1, 9, 4, 8, 7, 6, 3, 1, 0,\n",
              "       5, 9, 7, 1, 9, 7, 4, 2, 8, 9, 0, 7, 5, 1, 3, 6, 9, 9, 6, 9, 5, 0,\n",
              "       1, 5, 5, 8, 3, 9, 6, 2, 6, 5, 6, 2, 0, 8, 7, 3, 7, 0, 2, 6, 3, 5,\n",
              "       8, 7, 3, 6, 5, 9, 9, 1, 5, 6, 3, 0, 7, 8, 1, 9, 6, 1, 1, 0, 0, 2,\n",
              "       9, 9, 7, 8, 5, 7, 7, 1, 3, 5, 4, 6, 1, 2, 3, 1, 8, 7, 6, 1, 8, 0,\n",
              "       7, 1, 8, 8, 7, 1, 7, 1, 7, 1, 8, 5, 5, 7, 0, 0, 3, 2, 6, 1, 4, 6,\n",
              "       8, 0, 6, 7, 7, 9, 5, 4, 7, 0, 7, 6, 8, 7, 1, 1, 6, 6, 8, 7, 5, 9,\n",
              "       0, 5, 1, 6, 6, 1, 9, 1, 2, 9, 8, 1, 7, 7, 8, 5, 5, 9, 7, 7, 6, 8,\n",
              "       1, 3, 5, 2, 9, 5, 9, 1, 5, 1, 1, 2, 0, 8, 7, 5, 8, 8, 9, 6, 9, 0])"
            ]
          },
          "metadata": {},
          "execution_count": 14
        }
      ]
    },
    {
      "cell_type": "code",
      "source": [
        "y_predicy_ga=evolved_estimator.predict(X_test)"
      ],
      "metadata": {
        "id": "1On7ffFVzZEv"
      },
      "execution_count": 16,
      "outputs": []
    },
    {
      "cell_type": "code",
      "source": [
        "accuracy_score(y_test,y_predicy_ga)"
      ],
      "metadata": {
        "colab": {
          "base_uri": "https://localhost:8080/"
        },
        "id": "qktb7Aheyrvq",
        "outputId": "c3d75ff1-b79b-4b87-f86c-6f68a03797bf"
      },
      "execution_count": 17,
      "outputs": [
        {
          "output_type": "execute_result",
          "data": {
            "text/plain": [
              "0.7575757575757576"
            ]
          },
          "metadata": {},
          "execution_count": 17
        }
      ]
    },
    {
      "cell_type": "code",
      "source": [
        "import matplotlib.pyplot as plt\n"
      ],
      "metadata": {
        "id": "GBNu_bYn1Y8t"
      },
      "execution_count": 19,
      "outputs": []
    },
    {
      "cell_type": "code",
      "source": [
        "from sklearn_genetic.plots import plot_fitness_evolution\n",
        "plot_fitness_evolution(evolved_estimator)\n",
        "plt.show()"
      ],
      "metadata": {
        "colab": {
          "base_uri": "https://localhost:8080/",
          "height": 627
        },
        "id": "fj4I6LU_zI6t",
        "outputId": "cb1eb1c6-f5c9-4c59-c687-fa98a4ab479a"
      },
      "execution_count": 20,
      "outputs": [
        {
          "output_type": "display_data",
          "data": {
            "image/png": "[encoded data removed]",
            "text/plain": [
              "<Figure size 720x720 with 1 Axes>"
            ]
          },
          "metadata": {}
        }
      ]
    },
    {
      "cell_type": "code",
      "source": [
        ""
      ],
      "metadata": {
        "id": "DlxYwj312-E5"
      },
      "execution_count": null,
      "outputs": []
    }
  ]
}