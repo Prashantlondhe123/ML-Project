{
  "nbformat": 4,
  "nbformat_minor": 0,
  "metadata": {
    "colab": {
      "name": " Boston House Pricing Prediction(sklearn-genetic-opt).ipynb",
      "provenance": [],
      "collapsed_sections": [],
      "authorship_tag": "ABX9TyP4S4TfDOFmwvF5O8NuiYx3",
      "include_colab_link": true
    },
    "kernelspec": {
      "name": "python3",
      "display_name": "Python 3"
    },
    "language_info": {
      "name": "python"
    },
    "widgets": {
      "application/vnd.jupyter.widget-state+json": {
        "757c6cb04e944adaa45f4f965f8a1946": {
          "model_module": "@jupyter-widgets/controls",
          "model_name": "HBoxModel",
          "model_module_version": "1.5.0",
          "state": {
            "_view_name": "HBoxView",
            "_dom_classes": [],
            "_model_name": "HBoxModel",
            "_view_module": "@jupyter-widgets/controls",
            "_model_module_version": "1.5.0",
            "_view_count": null,
            "_view_module_version": "1.5.0",
            "box_style": "",
            "layout": "IPY_MODEL_ba0df7b4950f43ed97c49a3e082b19b3",
            "_model_module": "@jupyter-widgets/controls",
            "children": [
              "IPY_MODEL_9f074e462d0244df9af0f58c1621eaf9",
              "IPY_MODEL_5f88a589c32d48c8823d090c9d0011ef",
              "IPY_MODEL_ad7752534b674d63a22dfb8788ab3751"
            ]
          }
        },
        "ba0df7b4950f43ed97c49a3e082b19b3": {
          "model_module": "@jupyter-widgets/base",
          "model_name": "LayoutModel",
          "model_module_version": "1.2.0",
          "state": {
            "_view_name": "LayoutView",
            "grid_template_rows": null,
            "right": null,
            "justify_content": null,
            "_view_module": "@jupyter-widgets/base",
            "overflow": null,
            "_model_module_version": "1.2.0",
            "_view_count": null,
            "flex_flow": null,
            "width": null,
            "min_width": null,
            "border": null,
            "align_items": null,
            "bottom": null,
            "_model_module": "@jupyter-widgets/base",
            "top": null,
            "grid_column": null,
            "overflow_y": null,
            "overflow_x": null,
            "grid_auto_flow": null,
            "grid_area": null,
            "grid_template_columns": null,
            "flex": null,
            "_model_name": "LayoutModel",
            "justify_items": null,
            "grid_row": null,
            "max_height": null,
            "align_content": null,
            "visibility": null,
            "align_self": null,
            "height": null,
            "min_height": null,
            "padding": null,
            "grid_auto_rows": null,
            "grid_gap": null,
            "max_width": null,
            "order": null,
            "_view_module_version": "1.2.0",
            "grid_template_areas": null,
            "object_position": null,
            "object_fit": null,
            "grid_auto_columns": null,
            "margin": null,
            "display": null,
            "left": null
          }
        },
        "9f074e462d0244df9af0f58c1621eaf9": {
          "model_module": "@jupyter-widgets/controls",
          "model_name": "HTMLModel",
          "model_module_version": "1.5.0",
          "state": {
            "_view_name": "HTMLView",
            "style": "IPY_MODEL_0519f43a3eb34586a6a52884c1629739",
            "_dom_classes": [],
            "description": "",
            "_model_name": "HTMLModel",
            "placeholder": "​",
            "_view_module": "@jupyter-widgets/controls",
            "_model_module_version": "1.5.0",
            "value": "",
            "_view_count": null,
            "_view_module_version": "1.5.0",
            "description_tooltip": null,
            "_model_module": "@jupyter-widgets/controls",
            "layout": "IPY_MODEL_3dc82f9bcddb4839a48d86be2e4d74fd"
          }
        },
        "5f88a589c32d48c8823d090c9d0011ef": {
          "model_module": "@jupyter-widgets/controls",
          "model_name": "FloatProgressModel",
          "model_module_version": "1.5.0",
          "state": {
            "_view_name": "ProgressView",
            "style": "IPY_MODEL_9142b86eb9d441dfaa68fa71781ac75f",
            "_dom_classes": [],
            "description": "",
            "_model_name": "FloatProgressModel",
            "bar_style": "success",
            "max": 21,
            "_view_module": "@jupyter-widgets/controls",
            "_model_module_version": "1.5.0",
            "value": 21,
            "_view_count": null,
            "_view_module_version": "1.5.0",
            "orientation": "horizontal",
            "min": 0,
            "description_tooltip": null,
            "_model_module": "@jupyter-widgets/controls",
            "layout": "IPY_MODEL_b263af71904e4150884d5d46665d8b11"
          }
        },
        "ad7752534b674d63a22dfb8788ab3751": {
          "model_module": "@jupyter-widgets/controls",
          "model_name": "HTMLModel",
          "model_module_version": "1.5.0",
          "state": {
            "_view_name": "HTMLView",
            "style": "IPY_MODEL_0509076994a0465683f8014a2b967d15",
            "_dom_classes": [],
            "description": "",
            "_model_name": "HTMLModel",
            "placeholder": "​",
            "_view_module": "@jupyter-widgets/controls",
            "_model_module_version": "1.5.0",
            "value": " 22/? [00:19&lt;00:00,  1.02it/s]",
            "_view_count": null,
            "_view_module_version": "1.5.0",
            "description_tooltip": null,
            "_model_module": "@jupyter-widgets/controls",
            "layout": "IPY_MODEL_1214578e37c14c6aa36ed3a3f7164a82"
          }
        },
        "0519f43a3eb34586a6a52884c1629739": {
          "model_module": "@jupyter-widgets/controls",
          "model_name": "DescriptionStyleModel",
          "model_module_version": "1.5.0",
          "state": {
            "_view_name": "StyleView",
            "_model_name": "DescriptionStyleModel",
            "description_width": "",
            "_view_module": "@jupyter-widgets/base",
            "_model_module_version": "1.5.0",
            "_view_count": null,
            "_view_module_version": "1.2.0",
            "_model_module": "@jupyter-widgets/controls"
          }
        },
        "3dc82f9bcddb4839a48d86be2e4d74fd": {
          "model_module": "@jupyter-widgets/base",
          "model_name": "LayoutModel",
          "model_module_version": "1.2.0",
          "state": {
            "_view_name": "LayoutView",
            "grid_template_rows": null,
            "right": null,
            "justify_content": null,
            "_view_module": "@jupyter-widgets/base",
            "overflow": null,
            "_model_module_version": "1.2.0",
            "_view_count": null,
            "flex_flow": null,
            "width": null,
            "min_width": null,
            "border": null,
            "align_items": null,
            "bottom": null,
            "_model_module": "@jupyter-widgets/base",
            "top": null,
            "grid_column": null,
            "overflow_y": null,
            "overflow_x": null,
            "grid_auto_flow": null,
            "grid_area": null,
            "grid_template_columns": null,
            "flex": null,
            "_model_name": "LayoutModel",
            "justify_items": null,
            "grid_row": null,
            "max_height": null,
            "align_content": null,
            "visibility": null,
            "align_self": null,
            "height": null,
            "min_height": null,
            "padding": null,
            "grid_auto_rows": null,
            "grid_gap": null,
            "max_width": null,
            "order": null,
            "_view_module_version": "1.2.0",
            "grid_template_areas": null,
            "object_position": null,
            "object_fit": null,
            "grid_auto_columns": null,
            "margin": null,
            "display": null,
            "left": null
          }
        },
        "9142b86eb9d441dfaa68fa71781ac75f": {
          "model_module": "@jupyter-widgets/controls",
          "model_name": "ProgressStyleModel",
          "model_module_version": "1.5.0",
          "state": {
            "_view_name": "StyleView",
            "_model_name": "ProgressStyleModel",
            "description_width": "",
            "_view_module": "@jupyter-widgets/base",
            "_model_module_version": "1.5.0",
            "_view_count": null,
            "_view_module_version": "1.2.0",
            "bar_color": null,
            "_model_module": "@jupyter-widgets/controls"
          }
        },
        "b263af71904e4150884d5d46665d8b11": {
          "model_module": "@jupyter-widgets/base",
          "model_name": "LayoutModel",
          "model_module_version": "1.2.0",
          "state": {
            "_view_name": "LayoutView",
            "grid_template_rows": null,
            "right": null,
            "justify_content": null,
            "_view_module": "@jupyter-widgets/base",
            "overflow": null,
            "_model_module_version": "1.2.0",
            "_view_count": null,
            "flex_flow": null,
            "width": null,
            "min_width": null,
            "border": null,
            "align_items": null,
            "bottom": null,
            "_model_module": "@jupyter-widgets/base",
            "top": null,
            "grid_column": null,
            "overflow_y": null,
            "overflow_x": null,
            "grid_auto_flow": null,
            "grid_area": null,
            "grid_template_columns": null,
            "flex": null,
            "_model_name": "LayoutModel",
            "justify_items": null,
            "grid_row": null,
            "max_height": null,
            "align_content": null,
            "visibility": null,
            "align_self": null,
            "height": null,
            "min_height": null,
            "padding": null,
            "grid_auto_rows": null,
            "grid_gap": null,
            "max_width": null,
            "order": null,
            "_view_module_version": "1.2.0",
            "grid_template_areas": null,
            "object_position": null,
            "object_fit": null,
            "grid_auto_columns": null,
            "margin": null,
            "display": null,
            "left": null
          }
        },
        "0509076994a0465683f8014a2b967d15": {
          "model_module": "@jupyter-widgets/controls",
          "model_name": "DescriptionStyleModel",
          "model_module_version": "1.5.0",
          "state": {
            "_view_name": "StyleView",
            "_model_name": "DescriptionStyleModel",
            "description_width": "",
            "_view_module": "@jupyter-widgets/base",
            "_model_module_version": "1.5.0",
            "_view_count": null,
            "_view_module_version": "1.2.0",
            "_model_module": "@jupyter-widgets/controls"
          }
        },
        "1214578e37c14c6aa36ed3a3f7164a82": {
          "model_module": "@jupyter-widgets/base",
          "model_name": "LayoutModel",
          "model_module_version": "1.2.0",
          "state": {
            "_view_name": "LayoutView",
            "grid_template_rows": null,
            "right": null,
            "justify_content": null,
            "_view_module": "@jupyter-widgets/base",
            "overflow": null,
            "_model_module_version": "1.2.0",
            "_view_count": null,
            "flex_flow": null,
            "width": null,
            "min_width": null,
            "border": null,
            "align_items": null,
            "bottom": null,
            "_model_module": "@jupyter-widgets/base",
            "top": null,
            "grid_column": null,
            "overflow_y": null,
            "overflow_x": null,
            "grid_auto_flow": null,
            "grid_area": null,
            "grid_template_columns": null,
            "flex": null,
            "_model_name": "LayoutModel",
            "justify_items": null,
            "grid_row": null,
            "max_height": null,
            "align_content": null,
            "visibility": null,
            "align_self": null,
            "height": null,
            "min_height": null,
            "padding": null,
            "grid_auto_rows": null,
            "grid_gap": null,
            "max_width": null,
            "order": null,
            "_view_module_version": "1.2.0",
            "grid_template_areas": null,
            "object_position": null,
            "object_fit": null,
            "grid_auto_columns": null,
            "margin": null,
            "display": null,
            "left": null
          }
        }
      }
    }
  },
  "cells": [
    {
      "cell_type": "markdown",
      "metadata": {
        "id": "view-in-github",
        "colab_type": "text"
      },
      "source": [
        "<a href=\"https://colab.research.google.com/github/Prashantlondhe123/ML-Project/blob/main/Boston_House_Pricing_Prediction(sklearn_genetic_opt).ipynb\" target=\"_parent\"><img src=\"https://colab.research.google.com/assets/colab-badge.svg\" alt=\"Open In Colab\"/></a>"
      ]
    },
    {
      "cell_type": "markdown",
      "source": [
        "#Boston House Pricing Prediction(sklearn-genetic-opt)\n"
      ],
      "metadata": {
        "id": "0d-ubYiUvYb5"
      }
    },
    {
      "cell_type": "code",
      "source": [
        "pip install sklearn-genetic-opt"
      ],
      "metadata": {
        "colab": {
          "base_uri": "https://localhost:8080/"
        },
        "id": "U4t0-lsNv0Dd",
        "outputId": "f87899f5-6047-45c0-c15d-3eaca99ad885"
      },
      "execution_count": 6,
      "outputs": [
        {
          "output_type": "stream",
          "name": "stdout",
          "text": [
            "Collecting sklearn-genetic-opt\n",
            "  Downloading sklearn_genetic_opt-0.8.0-py3-none-any.whl (30 kB)\n",
            "Requirement already satisfied: tqdm>=4.61.1 in /usr/local/lib/python3.7/dist-packages (from sklearn-genetic-opt) (4.62.3)\n",
            "Requirement already satisfied: numpy>=1.14.5 in /usr/local/lib/python3.7/dist-packages (from sklearn-genetic-opt) (1.19.5)\n",
            "Requirement already satisfied: scikit-learn>=0.21.3 in /usr/local/lib/python3.7/dist-packages (from sklearn-genetic-opt) (1.0.2)\n",
            "Requirement already satisfied: deap>=1.3.1 in /usr/local/lib/python3.7/dist-packages (from sklearn-genetic-opt) (1.3.1)\n",
            "Requirement already satisfied: threadpoolctl>=2.0.0 in /usr/local/lib/python3.7/dist-packages (from scikit-learn>=0.21.3->sklearn-genetic-opt) (3.0.0)\n",
            "Requirement already satisfied: scipy>=1.1.0 in /usr/local/lib/python3.7/dist-packages (from scikit-learn>=0.21.3->sklearn-genetic-opt) (1.4.1)\n",
            "Requirement already satisfied: joblib>=0.11 in /usr/local/lib/python3.7/dist-packages (from scikit-learn>=0.21.3->sklearn-genetic-opt) (1.1.0)\n",
            "Installing collected packages: sklearn-genetic-opt\n",
            "Successfully installed sklearn-genetic-opt-0.8.0\n"
          ]
        }
      ]
    },
    {
      "cell_type": "code",
      "source": [
        "import matplotlib.pyplot as plt\n",
        "from sklearn_genetic import GASearchCV\n",
        "from sklearn_genetic.space import Integer, Categorical, Continuous\n",
        "from sklearn_genetic.plots import plot_fitness_evolution, plot_search_space\n",
        "from sklearn_genetic.callbacks import LogbookSaver, ProgressBar\n",
        "from sklearn.datasets import load_boston\n",
        "from sklearn.model_selection import train_test_split, KFold\n",
        "from sklearn.tree import DecisionTreeRegressor\n",
        "from sklearn.metrics import r2_score\n",
        "from sklearn.pipeline import Pipeline\n",
        "from sklearn.preprocessing import StandardScaler"
      ],
      "metadata": {
        "id": "DlxYwj312-E5"
      },
      "execution_count": 29,
      "outputs": []
    },
    {
      "cell_type": "markdown",
      "source": [
        "##Import the data and split it in train and test sets"
      ],
      "metadata": {
        "id": "AVrqeWwi4Xyq"
      }
    },
    {
      "cell_type": "code",
      "source": [
        "data = load_boston()\n",
        "\n",
        "y = data[\"target\"]\n",
        "X = data[\"data\"]\n",
        "\n",
        "X_train, X_test, y_train, y_test = train_test_split(X, y, test_size=0.33, random_state=42)"
      ],
      "metadata": {
        "colab": {
          "base_uri": "https://localhost:8080/"
        },
        "id": "T5jKekvf4TSY",
        "outputId": "b4dabd7a-6358-4568-d558-5f7880d08713"
      },
      "execution_count": 30,
      "outputs": [
        {
          "output_type": "stream",
          "name": "stderr",
          "text": [
            "/usr/local/lib/python3.7/dist-packages/sklearn/utils/deprecation.py:87: FutureWarning: Function load_boston is deprecated; `load_boston` is deprecated in 1.0 and will be removed in 1.2.\n",
            "\n",
            "    The Boston housing prices dataset has an ethical problem. You can refer to\n",
            "    the documentation of this function for further details.\n",
            "\n",
            "    The scikit-learn maintainers therefore strongly discourage the use of this\n",
            "    dataset unless the purpose of the code is to study and educate about\n",
            "    ethical issues in data science and machine learning.\n",
            "\n",
            "    In this special case, you can fetch the dataset from the original\n",
            "    source::\n",
            "\n",
            "        import pandas as pd\n",
            "        import numpy as np\n",
            "\n",
            "\n",
            "        data_url = \"http://lib.stat.cmu.edu/datasets/boston\"\n",
            "        raw_df = pd.read_csv(data_url, sep=\"\\s+\", skiprows=22, header=None)\n",
            "        data = np.hstack([raw_df.values[::2, :], raw_df.values[1::2, :2]])\n",
            "        target = raw_df.values[1::2, 2]\n",
            "\n",
            "    Alternative datasets include the California housing dataset (i.e.\n",
            "    :func:`~sklearn.datasets.fetch_california_housing`) and the Ames housing\n",
            "    dataset. You can load the datasets as follows::\n",
            "\n",
            "        from sklearn.datasets import fetch_california_housing\n",
            "        housing = fetch_california_housing()\n",
            "\n",
            "    for the California housing dataset and::\n",
            "\n",
            "        from sklearn.datasets import fetch_openml\n",
            "        housing = fetch_openml(name=\"house_prices\", as_frame=True)\n",
            "\n",
            "    for the Ames housing dataset.\n",
            "    \n",
            "  warnings.warn(msg, category=FutureWarning)\n"
          ]
        }
      ]
    },
    {
      "cell_type": "markdown",
      "source": [
        "##Define the classifier to tune"
      ],
      "metadata": {
        "id": "faURDEDJ4i9q"
      }
    },
    {
      "cell_type": "code",
      "source": [
        "clf = DecisionTreeRegressor()\n",
        "pipe = Pipeline([(\"scaler\", StandardScaler()), (\"clf\", clf)])"
      ],
      "metadata": {
        "id": "zoC2_3xM4b9J"
      },
      "execution_count": 31,
      "outputs": []
    },
    {
      "cell_type": "markdown",
      "source": [
        ""
      ],
      "metadata": {
        "id": "1zXyfOk44_bi"
      }
    },
    {
      "cell_type": "markdown",
      "source": [
        "##Create the CV strategy and define the param grid"
      ],
      "metadata": {
        "id": "uj2hIH394-UW"
      }
    },
    {
      "cell_type": "code",
      "source": [
        "cv = KFold(n_splits=5, shuffle=True)\n",
        "\n",
        "param_grid = {\n",
        "    \"clf__ccp_alpha\": Continuous(0, 1),\n",
        "    \"clf__criterion\": Categorical([\"mse\", \"mae\"]),\n",
        "    \"clf__max_depth\": Integer(2, 20),\n",
        "    \"clf__min_samples_split\": Integer(2, 30)}"
      ],
      "metadata": {
        "id": "NNhXrTu446RJ"
      },
      "execution_count": 32,
      "outputs": []
    },
    {
      "cell_type": "markdown",
      "source": [
        "##Define the GASearchCV options"
      ],
      "metadata": {
        "id": "HwRRpLxD5nuS"
      }
    },
    {
      "cell_type": "code",
      "source": [
        "evolved_estimator = GASearchCV(\n",
        "    estimator=pipe,\n",
        "    cv=3,\n",
        "    scoring=\"r2\",\n",
        "    population_size=15,\n",
        "    generations=20,\n",
        "    tournament_size=3,\n",
        "    elitism=True,\n",
        "    keep_top_k=4,\n",
        "    crossover_probability=0.9,\n",
        "    mutation_probability=0.05,\n",
        "    param_grid=param_grid,\n",
        "    criteria=\"max\",\n",
        "    algorithm=\"eaMuCommaLambda\",\n",
        "    n_jobs=-1)"
      ],
      "metadata": {
        "id": "gHbbWSoR5j1o"
      },
      "execution_count": 33,
      "outputs": []
    },
    {
      "cell_type": "markdown",
      "source": [
        "##Optionally, create some Callbacks"
      ],
      "metadata": {
        "id": "GY-_wcym5xe2"
      }
    },
    {
      "cell_type": "code",
      "source": [
        "callbacks = [LogbookSaver(checkpoint_path=\"./logbook.pkl\"), ProgressBar()]"
      ],
      "metadata": {
        "id": "9Vc3FiyZ5tB_"
      },
      "execution_count": 34,
      "outputs": []
    },
    {
      "cell_type": "markdown",
      "source": [
        "##Fit the model and see some results"
      ],
      "metadata": {
        "id": "NRGNzz4E57md"
      }
    },
    {
      "cell_type": "code",
      "source": [
        "evolved_estimator.fit(X_train, y_train, callbacks=callbacks)\n",
        "y_predict_ga = evolved_estimator.predict(X_test)\n",
        "r_squared = r2_score(y_test, y_predict_ga)"
      ],
      "metadata": {
        "colab": {
          "base_uri": "https://localhost:8080/",
          "height": 555,
          "referenced_widgets": [
            "757c6cb04e944adaa45f4f965f8a1946",
            "ba0df7b4950f43ed97c49a3e082b19b3",
            "9f074e462d0244df9af0f58c1621eaf9",
            "5f88a589c32d48c8823d090c9d0011ef",
            "ad7752534b674d63a22dfb8788ab3751",
            "0519f43a3eb34586a6a52884c1629739",
            "3dc82f9bcddb4839a48d86be2e4d74fd",
            "9142b86eb9d441dfaa68fa71781ac75f",
            "b263af71904e4150884d5d46665d8b11",
            "0509076994a0465683f8014a2b967d15",
            "1214578e37c14c6aa36ed3a3f7164a82"
          ]
        },
        "id": "_YlIkT2B522z",
        "outputId": "cbb764fa-ee1b-4c6f-bf97-fd1f4089d0ce"
      },
      "execution_count": 35,
      "outputs": [
        {
          "output_type": "stream",
          "name": "stderr",
          "text": [
            "/usr/local/lib/python3.7/dist-packages/deap/creator.py:141: RuntimeWarning: A class named 'FitnessMax' has already been created and it will be overwritten. Consider deleting previous creation of that class or rename it.\n",
            "  RuntimeWarning)\n",
            "/usr/local/lib/python3.7/dist-packages/deap/creator.py:141: RuntimeWarning: A class named 'Individual' has already been created and it will be overwritten. Consider deleting previous creation of that class or rename it.\n",
            "  RuntimeWarning)\n"
          ]
        },
        {
          "output_type": "display_data",
          "data": {
            "application/vnd.jupyter.widget-view+json": {
              "model_id": "757c6cb04e944adaa45f4f965f8a1946",
              "version_minor": 0,
              "version_major": 2
            },
            "text/plain": [
              "  0%|          | 0/21 [00:00<?, ?it/s]"
            ]
          },
          "metadata": {}
        },
        {
          "output_type": "stream",
          "name": "stdout",
          "text": [
            "gen\tnevals\tfitness \tfitness_std\tfitness_max\tfitness_min\n",
            "0  \t15    \t0.618719\t0.0777857  \t0.708233   \t0.494515   \n",
            "1  \t30    \t0.673013\t0.0455225  \t0.754357   \t0.542149   \n",
            "2  \t30    \t0.697758\t0.0220263  \t0.745598   \t0.674779   \n",
            "3  \t28    \t0.696309\t0.0061839  \t0.712143   \t0.68899    \n",
            "4  \t29    \t0.707353\t0.0124588  \t0.727295   \t0.691941   \n",
            "5  \t29    \t0.704893\t0.00483685 \t0.710823   \t0.693692   \n",
            "6  \t29    \t0.701044\t0.00570255 \t0.710761   \t0.689817   \n",
            "7  \t29    \t0.700185\t0.0083673  \t0.708711   \t0.674775   \n",
            "8  \t30    \t0.705503\t0.00491664 \t0.713227   \t0.699851   \n",
            "9  \t30    \t0.704282\t0.00322102 \t0.7113     \t0.701063   \n",
            "10 \t29    \t0.70439 \t0.00395731 \t0.710402   \t0.694325   \n",
            "11 \t28    \t0.703768\t0.00303268 \t0.708253   \t0.697106   \n",
            "12 \t30    \t0.706249\t0.00533446 \t0.713966   \t0.694072   \n",
            "13 \t29    \t0.704178\t0.00415126 \t0.709551   \t0.692483   \n",
            "14 \t29    \t0.705503\t0.0070134  \t0.71223    \t0.689533   \n",
            "15 \t28    \t0.707284\t0.0035667  \t0.711458   \t0.699883   \n",
            "16 \t30    \t0.70384 \t0.00788254 \t0.71417    \t0.69259    \n",
            "17 \t27    \t0.705675\t0.00485209 \t0.710385   \t0.692379   \n",
            "18 \t26    \t0.706624\t0.00577258 \t0.713362   \t0.692392   \n",
            "19 \t29    \t0.704949\t0.00639631 \t0.718461   \t0.699125   \n",
            "20 \t27    \t0.706167\t0.00288975 \t0.710596   \t0.701921   \n"
          ]
        },
        {
          "output_type": "stream",
          "name": "stderr",
          "text": [
            "/usr/local/lib/python3.7/dist-packages/sklearn/tree/_classes.py:370: FutureWarning: Criterion 'mae' was deprecated in v1.0 and will be removed in version 1.2. Use `criterion='absolute_error'` which is equivalent.\n",
            "  FutureWarning,\n"
          ]
        }
      ]
    },
    {
      "cell_type": "code",
      "source": [
        "print(evolved_estimator.best_params_)\n",
        "print(\"r-squared: \", \"{:.2f}\".format(r_squared))\n",
        "print(\"Best k solutions: \", evolved_estimator.hof)"
      ],
      "metadata": {
        "colab": {
          "base_uri": "https://localhost:8080/"
        },
        "id": "x23-1uth6B9N",
        "outputId": "fbe3d95d-89e9-4409-a16a-3951c4160f7e"
      },
      "execution_count": 36,
      "outputs": [
        {
          "output_type": "stream",
          "name": "stdout",
          "text": [
            "{'clf__ccp_alpha': 0.03389505088041678, 'clf__criterion': 'mae', 'clf__max_depth': 13, 'clf__min_samples_split': 4}\n",
            "r-squared:  0.67\n",
            "Best k solutions:  {0: {'clf__ccp_alpha': 0.03389505088041678, 'clf__criterion': 'mae', 'clf__max_depth': 13, 'clf__min_samples_split': 4}, 1: {'clf__ccp_alpha': 0.03389505088041678, 'clf__criterion': 'mae', 'clf__max_depth': 18, 'clf__min_samples_split': 4}, 2: {'clf__ccp_alpha': 0.03389505088041678, 'clf__criterion': 'mae', 'clf__max_depth': 5, 'clf__min_samples_split': 4}, 3: {'clf__ccp_alpha': 0.03389505088041678, 'clf__criterion': 'mse', 'clf__max_depth': 5, 'clf__min_samples_split': 4}}\n"
          ]
        }
      ]
    },
    {
      "cell_type": "code",
      "source": [
        "r2_score(y_test, y_predict_ga)\n"
      ],
      "metadata": {
        "colab": {
          "base_uri": "https://localhost:8080/"
        },
        "id": "CAPxWWu26IlK",
        "outputId": "dea54a2d-8e3d-4f36-d3b7-75b695bbd05a"
      },
      "execution_count": 37,
      "outputs": [
        {
          "output_type": "execute_result",
          "data": {
            "text/plain": [
              "0.6731527232339924"
            ]
          },
          "metadata": {},
          "execution_count": 37
        }
      ]
    },
    {
      "cell_type": "code",
      "source": [
        "plot = plot_fitness_evolution(evolved_estimator, metric=\"fitness\")\n",
        "plt.show()"
      ],
      "metadata": {
        "colab": {
          "base_uri": "https://localhost:8080/",
          "height": 627
        },
        "id": "_KE4GNEc6k0a",
        "outputId": "9bf6b27b-4bef-48e0-a302-4a46a57190e5"
      },
      "execution_count": 38,
      "outputs": [
        {
          "output_type": "display_data",
          "data": {
            "image/png": "[encoded data removed]",
            "text/plain": [
              "<Figure size 720x720 with 1 Axes>"
            ]
          },
          "metadata": {}
        }
      ]
    },
    {
      "cell_type": "code",
      "source": [
        "plot_search_space(evolved_estimator)\n",
        "plt.show()"
      ],
      "metadata": {
        "colab": {
          "base_uri": "https://localhost:8080/",
          "height": 580
        },
        "id": "-hbT7nSM6ptA",
        "outputId": "fb1d8796-8154-4cc7-a0f8-5b7ccc861caa"
      },
      "execution_count": 39,
      "outputs": [
        {
          "output_type": "display_data",
          "data": {
            "image/png": "[encoded data removed]",
            "text/plain": [
              "<Figure size 576x576 with 20 Axes>"
            ]
          },
          "metadata": {}
        }
      ]
    },
    {
      "cell_type": "code",
      "source": [
        ""
      ],
      "metadata": {
        "id": "dhHbDLWh6tXe"
      },
      "execution_count": null,
      "outputs": []
    }
  ]
}