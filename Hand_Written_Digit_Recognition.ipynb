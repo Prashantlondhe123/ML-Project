{
  "nbformat": 4,
  "nbformat_minor": 0,
  "metadata": {
    "colab": {
      "name": "Hand Written Digit Recognition.ipynb",
      "provenance": [],
      "include_colab_link": true
    },
    "kernelspec": {
      "name": "python3",
      "display_name": "Python 3"
    },
    "language_info": {
      "name": "python"
    }
  },
  "cells": [
    {
      "cell_type": "markdown",
      "metadata": {
        "id": "view-in-github",
        "colab_type": "text"
      },
      "source": [
        "<a href=\"https://colab.research.google.com/github/Prashantlondhe123/ML-Project/blob/main/Hand_Written_Digit_Recognition.ipynb\" target=\"_parent\"><img src=\"https://colab.research.google.com/assets/colab-badge.svg\" alt=\"Open In Colab\"/></a>"
      ]
    },
    {
      "cell_type": "markdown",
      "source": [
        "#Project: Hand Written Digit Recognition using Genetic Algorithm"
      ],
      "metadata": {
        "id": "OMfMGEpf0H-y"
      }
    },
    {
      "cell_type": "code",
      "execution_count": null,
      "metadata": {
        "colab": {
          "base_uri": "https://localhost:8080/"
        },
        "id": "bdMwNHCVmXE0",
        "outputId": "03af5236-68cf-4f22-978b-359c9309fc6b"
      },
      "outputs": [
        {
          "output_type": "stream",
          "name": "stdout",
          "text": [
            "Collecting sklearn-genetic\n",
            "  Downloading sklearn_genetic-0.5.1-py3-none-any.whl (11 kB)\n",
            "Requirement already satisfied: multiprocess in /usr/local/lib/python3.7/dist-packages (from sklearn-genetic) (0.70.12.2)\n",
            "Collecting deap>=1.0.2\n",
            "  Downloading deap-1.3.1-cp37-cp37m-manylinux_2_5_x86_64.manylinux1_x86_64.manylinux_2_12_x86_64.manylinux2010_x86_64.whl (160 kB)\n",
            "\u001b[?25l\r\u001b[K     |██                              | 10 kB 14.7 MB/s eta 0:00:01\r\u001b[K     |████                            | 20 kB 19.3 MB/s eta 0:00:01\r\u001b[K     |██████                          | 30 kB 23.2 MB/s eta 0:00:01\r\u001b[K     |████████▏                       | 40 kB 18.7 MB/s eta 0:00:01\r\u001b[K     |██████████▏                     | 51 kB 11.4 MB/s eta 0:00:01\r\u001b[K     |████████████▏                   | 61 kB 10.0 MB/s eta 0:00:01\r\u001b[K     |██████████████▎                 | 71 kB 9.3 MB/s eta 0:00:01\r\u001b[K     |████████████████▎               | 81 kB 10.1 MB/s eta 0:00:01\r\u001b[K     |██████████████████▎             | 92 kB 9.1 MB/s eta 0:00:01\r\u001b[K     |████████████████████▍           | 102 kB 9.6 MB/s eta 0:00:01\r\u001b[K     |██████████████████████▍         | 112 kB 9.6 MB/s eta 0:00:01\r\u001b[K     |████████████████████████▍       | 122 kB 9.6 MB/s eta 0:00:01\r\u001b[K     |██████████████████████████▌     | 133 kB 9.6 MB/s eta 0:00:01\r\u001b[K     |████████████████████████████▌   | 143 kB 9.6 MB/s eta 0:00:01\r\u001b[K     |██████████████████████████████▌ | 153 kB 9.6 MB/s eta 0:00:01\r\u001b[K     |████████████████████████████████| 160 kB 9.6 MB/s \n",
            "\u001b[?25hRequirement already satisfied: numpy in /usr/local/lib/python3.7/dist-packages (from sklearn-genetic) (1.19.5)\n",
            "Requirement already satisfied: scikit-learn>=0.23 in /usr/local/lib/python3.7/dist-packages (from sklearn-genetic) (1.0.2)\n",
            "Requirement already satisfied: threadpoolctl>=2.0.0 in /usr/local/lib/python3.7/dist-packages (from scikit-learn>=0.23->sklearn-genetic) (3.0.0)\n",
            "Requirement already satisfied: scipy>=1.1.0 in /usr/local/lib/python3.7/dist-packages (from scikit-learn>=0.23->sklearn-genetic) (1.4.1)\n",
            "Requirement already satisfied: joblib>=0.11 in /usr/local/lib/python3.7/dist-packages (from scikit-learn>=0.23->sklearn-genetic) (1.1.0)\n",
            "Requirement already satisfied: dill>=0.3.4 in /usr/local/lib/python3.7/dist-packages (from multiprocess->sklearn-genetic) (0.3.4)\n",
            "Installing collected packages: deap, sklearn-genetic\n",
            "Successfully installed deap-1.3.1 sklearn-genetic-0.5.1\n"
          ]
        }
      ],
      "source": [
        "pip install sklearn-genetic"
      ]
    },
    {
      "cell_type": "code",
      "source": [
        "import random\n",
        "import numpy as np\n",
        "from sklearn import datasets, linear_model\n",
        "from genetic_selection import GeneticSelectionCV\n",
        "\n",
        "# When using multiple processes (n_jobs != 1), protect the entry point of the program if necessary\n",
        "if __name__ == \"__main__\":\n",
        "\n",
        "    # Set seed for reproducibility\n",
        "    random.seed(42)\n",
        "    np.random.seed(42)\n",
        "\n",
        "    digit = datasets.load_digits()\n",
        "\n",
        "    # Some noisy data not correlated\n",
        "    E = np.random.uniform(0, 0.1, size=(len(digit.data), 20))\n",
        "\n",
        "    X = np.hstack((digit.data, E))\n",
        "    y = digit.target\n",
        "\n",
        "    estimator = linear_model.LogisticRegression(solver=\"liblinear\", multi_class=\"ovr\")\n",
        "\n",
        "    selector = GeneticSelectionCV(\n",
        "        estimator,\n",
        "        cv=5,\n",
        "        verbose=1,\n",
        "        scoring=\"accuracy\",\n",
        "        max_features=5,\n",
        "        n_population=50,\n",
        "        crossover_proba=0.5,\n",
        "        mutation_proba=0.2,\n",
        "        n_generations=40,\n",
        "        crossover_independent_proba=0.5,\n",
        "        mutation_independent_proba=0.05,\n",
        "        tournament_size=3,\n",
        "        n_gen_no_change=10,\n",
        "        caching=True,\n",
        "        n_jobs=-1,\n",
        "    )\n",
        "    model = selector.fit(X, y)"
      ],
      "metadata": {
        "colab": {
          "base_uri": "https://localhost:8080/"
        },
        "id": "p99DA80umYrz",
        "outputId": "fa3fb142-37db-4324-9857-6ed53b0ed1b7"
      },
      "execution_count": null,
      "outputs": [
        {
          "output_type": "stream",
          "name": "stdout",
          "text": [
            "Selecting features with genetic algorithm.\n",
            "gen\tnevals\tavg                            \tstd                            \tmin                            \tmax                            \n",
            "0  \t50    \t[ 0.271553  3.32      0.02096 ]\t[ 0.114249  1.362938  0.01172 ]\t[ 0.086252  1.        0.001459]\t[ 0.525887  5.        0.056455]\n",
            "1  \t34    \t[-1399.702122     4.52      1400.022738]\t[ 3469.990501     2.247132  3469.861141]\t[-10000.           1.           0.00855]\t[     0.525887     15.        10000.      ]\n",
            "2  \t33    \t[-1999.700685     4.8       2000.022232]\t[ 4000.149658     1.969772  3999.988884]\t[-10000.            1.            0.004772]\t[     0.525887     11.        10000.      ]\n",
            "3  \t28    \t[-2199.660901     5.08      2200.022269]\t[ 4142.643126     1.998399  4142.451209]\t[-10000.            1.            0.008381]\t[     0.56706     12.       10000.     ]   \n",
            "4  \t33    \t[-2799.665644     5.08      2800.016618]\t[ 4490.197372     1.916664  4489.978501]\t[-10000.            2.            0.009583]\t[     0.618251     10.        10000.      ]\n",
            "5  \t31    \t[-2399.632502     4.92      2400.018782]\t[ 4271.037818     1.957958  4270.820746]\t[-10000.            1.            0.009583]\t[     0.67998     10.       10000.     ]   \n",
            "6  \t32    \t[-2399.597814     5.08      2400.02017 ]\t[ 4271.057311     1.86376   4270.819966]\t[-10000.            2.            0.009583]\t[     0.67998     12.       10000.     ]   \n",
            "7  \t39    \t[-3199.639161     5.5       3200.019186]\t[ 4665.00905      2.291288  4664.748354]\t[-10000.            2.            0.009583]\t[     0.67998     12.       10000.     ]   \n",
            "8  \t21    \t[-1799.516212     5.36      1800.023721]\t[ 3842.101208     2.104852  3841.863429]\t[-10000.            1.            0.003536]\t[     0.67998     13.       10000.     ]   \n",
            "9  \t26    \t[-3199.585761     5.68      3200.020772]\t[ 4665.045682     1.630215  4664.747266]\t[-10000.            4.            0.009583]\t[     0.67998     10.       10000.     ]   \n",
            "10 \t28    \t[-1799.48237      5.44      1800.026415]\t[ 3842.117063     1.66325   3841.862167]\t[-10000.            4.            0.009583]\t[     0.67998     12.       10000.     ]   \n",
            "11 \t34    \t[-3199.553738     5.94      3200.024606]\t[ 4665.06765      2.120472  4664.744637]\t[-10000.            3.            0.005798]\t[     0.67998     13.       10000.     ]   \n",
            "12 \t21    \t[-2599.506997     5.74      2600.028048]\t[ 4386.634667     1.659036  4386.325815]\t[-10000.           3.           0.03238]   \t[     0.67998     11.       10000.     ]   \n",
            "13 \t22    \t[-1599.428817     5.76      1600.032094]\t[ 3666.309841     1.965299  3666.046549]\t[-10000.            5.            0.038207]\t[     0.67998     13.       10000.     ]   \n",
            "14 \t26    \t[-2199.469616     5.9       2200.029802]\t[ 4142.744715     1.813836  4142.447208]\t[-10000.            5.            0.038207]\t[     0.67998     11.       10000.     ]   \n",
            "15 \t25    \t[-2399.483215     5.8       2400.029037]\t[ 4271.121709     1.612452  4270.814983]\t[-10000.            5.            0.038207]\t[     0.67998     12.       10000.     ]   \n"
          ]
        }
      ]
    },
    {
      "cell_type": "code",
      "source": [
        "model.predict(X)"
      ],
      "metadata": {
        "colab": {
          "base_uri": "https://localhost:8080/"
        },
        "id": "Bijo5sy8nAbz",
        "outputId": "79ae4e9b-e761-4575-bbd3-0fcf3996544f"
      },
      "execution_count": null,
      "outputs": [
        {
          "output_type": "execute_result",
          "data": {
            "text/plain": [
              "array([0, 1, 6, ..., 8, 3, 6])"
            ]
          },
          "metadata": {},
          "execution_count": 3
        }
      ]
    },
    {
      "cell_type": "code",
      "source": [
        "X[1]"
      ],
      "metadata": {
        "colab": {
          "base_uri": "https://localhost:8080/"
        },
        "id": "2xLBZk5xnbDl",
        "outputId": "d86ba5bb-6870-4c25-a01d-57f5a69c8dea"
      },
      "execution_count": null,
      "outputs": [
        {
          "output_type": "execute_result",
          "data": {
            "text/plain": [
              "array([0.00000000e+00, 0.00000000e+00, 0.00000000e+00, 1.20000000e+01,\n",
              "       1.30000000e+01, 5.00000000e+00, 0.00000000e+00, 0.00000000e+00,\n",
              "       0.00000000e+00, 0.00000000e+00, 0.00000000e+00, 1.10000000e+01,\n",
              "       1.60000000e+01, 9.00000000e+00, 0.00000000e+00, 0.00000000e+00,\n",
              "       0.00000000e+00, 0.00000000e+00, 3.00000000e+00, 1.50000000e+01,\n",
              "       1.60000000e+01, 6.00000000e+00, 0.00000000e+00, 0.00000000e+00,\n",
              "       0.00000000e+00, 7.00000000e+00, 1.50000000e+01, 1.60000000e+01,\n",
              "       1.60000000e+01, 2.00000000e+00, 0.00000000e+00, 0.00000000e+00,\n",
              "       0.00000000e+00, 0.00000000e+00, 1.00000000e+00, 1.60000000e+01,\n",
              "       1.60000000e+01, 3.00000000e+00, 0.00000000e+00, 0.00000000e+00,\n",
              "       0.00000000e+00, 0.00000000e+00, 1.00000000e+00, 1.60000000e+01,\n",
              "       1.60000000e+01, 6.00000000e+00, 0.00000000e+00, 0.00000000e+00,\n",
              "       0.00000000e+00, 0.00000000e+00, 1.00000000e+00, 1.60000000e+01,\n",
              "       1.60000000e+01, 6.00000000e+00, 0.00000000e+00, 0.00000000e+00,\n",
              "       0.00000000e+00, 0.00000000e+00, 0.00000000e+00, 1.10000000e+01,\n",
              "       1.60000000e+01, 1.00000000e+01, 0.00000000e+00, 0.00000000e+00,\n",
              "       6.11852895e-02, 1.39493861e-02, 2.92144649e-02, 3.66361843e-02,\n",
              "       4.56069984e-02, 7.85175961e-02, 1.99673782e-02, 5.14234438e-02,\n",
              "       5.92414569e-02, 4.64504127e-03, 6.07544852e-02, 1.70524124e-02,\n",
              "       6.50515930e-03, 9.48885537e-02, 9.65632033e-02, 8.08397348e-02,\n",
              "       3.04613769e-02, 9.76721140e-03, 6.84233027e-02, 4.40152494e-02])"
            ]
          },
          "metadata": {},
          "execution_count": 4
        }
      ]
    },
    {
      "cell_type": "code",
      "source": [
        "model.predict([[0.00000000e+00, 0.00000000e+00, 0.00000000e+00, 1.20000000e+01,\n",
        "       1.30000000e+01, 5.00000000e+00, 0.00000000e+00, 0.00000000e+00,\n",
        "       0.00000000e+00, 0.00000000e+00, 0.00000000e+00, 1.10000000e+01,\n",
        "       1.60000000e+01, 9.00000000e+00, 0.00000000e+00, 0.00000000e+00,\n",
        "       0.00000000e+00, 0.00000000e+00, 3.00000000e+00, 1.50000000e+01,\n",
        "       1.60000000e+01, 6.00000000e+00, 0.00000000e+00, 0.00000000e+00,\n",
        "       0.00000000e+00, 7.00000000e+00, 1.50000000e+01, 1.60000000e+01,\n",
        "       1.60000000e+01, 2.00000000e+00, 0.00000000e+00, 0.00000000e+00,\n",
        "       0.00000000e+00, 0.00000000e+00, 1.00000000e+00, 1.60000000e+01,\n",
        "       1.60000000e+01, 3.00000000e+00, 0.00000000e+00, 0.00000000e+00,\n",
        "       0.00000000e+00, 0.00000000e+00, 1.00000000e+00, 1.60000000e+01,\n",
        "       1.60000000e+01, 6.00000000e+00, 0.00000000e+00, 0.00000000e+00,\n",
        "       0.00000000e+00, 0.00000000e+00, 1.00000000e+00, 1.60000000e+01,\n",
        "       1.60000000e+01, 6.00000000e+00, 0.00000000e+00, 0.00000000e+00,\n",
        "       0.00000000e+00, 0.00000000e+00, 0.00000000e+00, 1.10000000e+01,\n",
        "       1.60000000e+01, 1.00000000e+01, 0.00000000e+00, 0.00000000e+00,\n",
        "       6.11852895e-02, 1.39493861e-02, 2.92144649e-02, 3.66361843e-02,\n",
        "       4.56069984e-02, 7.85175961e-02, 1.99673782e-02, 5.14234438e-02,\n",
        "       5.92414569e-02, 4.64504127e-03, 6.07544852e-02, 1.70524124e-02,\n",
        "       6.50515930e-03, 9.48885537e-02, 9.65632033e-02, 8.08397348e-02,\n",
        "       3.04613769e-02, 9.76721140e-03, 6.84233027e-02, 4.40152494e-02]])"
      ],
      "metadata": {
        "colab": {
          "base_uri": "https://localhost:8080/"
        },
        "id": "4YhgjUy5n028",
        "outputId": "595fdc34-32e9-46e9-eebb-83cb79abc00c"
      },
      "execution_count": null,
      "outputs": [
        {
          "output_type": "execute_result",
          "data": {
            "text/plain": [
              "array([1])"
            ]
          },
          "metadata": {},
          "execution_count": 5
        }
      ]
    },
    {
      "cell_type": "code",
      "source": [
        ""
      ],
      "metadata": {
        "id": "Up9Q00h1oLfV"
      },
      "execution_count": null,
      "outputs": []
    }
  ]
}