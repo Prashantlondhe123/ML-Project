{
  "nbformat": 4,
  "nbformat_minor": 0,
  "metadata": {
    "colab": {
      "name": "Copy of genetic.ipynb",
      "provenance": [],
      "authorship_tag": "ABX9TyOTxkFSD9zreQSb7T7VM23p",
      "include_colab_link": true
    },
    "kernelspec": {
      "name": "python3",
      "display_name": "Python 3"
    },
    "language_info": {
      "name": "python"
    }
  },
  "cells": [
    {
      "cell_type": "markdown",
      "metadata": {
        "id": "view-in-github",
        "colab_type": "text"
      },
      "source": [
        "<a href=\"https://colab.research.google.com/github/Prashantlondhe123/ML-Project/blob/main/genetic.ipynb\" target=\"_parent\"><img src=\"https://colab.research.google.com/assets/colab-badge.svg\" alt=\"Open In Colab\"/></a>"
      ]
    },
    {
      "cell_type": "markdown",
      "source": [
        "#Project : Iris Flower Analysis"
      ],
      "metadata": {
        "id": "q51nPoQz7mVU"
      }
    },
    {
      "cell_type": "code",
      "execution_count": null,
      "metadata": {
        "colab": {
          "base_uri": "https://localhost:8080/"
        },
        "id": "S8Nt-Xni7k9a",
        "outputId": "57607a49-dde4-4791-f3af-75a29f2e94c6"
      },
      "outputs": [
        {
          "output_type": "stream",
          "name": "stdout",
          "text": [
            "Collecting sklearn-genetic\n",
            "  Downloading sklearn_genetic-0.5.1-py3-none-any.whl (11 kB)\n",
            "Requirement already satisfied: numpy in /usr/local/lib/python3.7/dist-packages (from sklearn-genetic) (1.19.5)\n",
            "Requirement already satisfied: multiprocess in /usr/local/lib/python3.7/dist-packages (from sklearn-genetic) (0.70.12.2)\n",
            "Requirement already satisfied: scikit-learn>=0.23 in /usr/local/lib/python3.7/dist-packages (from sklearn-genetic) (1.0.2)\n",
            "Collecting deap>=1.0.2\n",
            "  Downloading deap-1.3.1-cp37-cp37m-manylinux_2_5_x86_64.manylinux1_x86_64.manylinux_2_12_x86_64.manylinux2010_x86_64.whl (160 kB)\n",
            "\u001b[K     |████████████████████████████████| 160 kB 5.0 MB/s \n",
            "\u001b[?25hRequirement already satisfied: scipy>=1.1.0 in /usr/local/lib/python3.7/dist-packages (from scikit-learn>=0.23->sklearn-genetic) (1.4.1)\n",
            "Requirement already satisfied: threadpoolctl>=2.0.0 in /usr/local/lib/python3.7/dist-packages (from scikit-learn>=0.23->sklearn-genetic) (3.0.0)\n",
            "Requirement already satisfied: joblib>=0.11 in /usr/local/lib/python3.7/dist-packages (from scikit-learn>=0.23->sklearn-genetic) (1.1.0)\n",
            "Requirement already satisfied: dill>=0.3.4 in /usr/local/lib/python3.7/dist-packages (from multiprocess->sklearn-genetic) (0.3.4)\n",
            "Installing collected packages: deap, sklearn-genetic\n",
            "Successfully installed deap-1.3.1 sklearn-genetic-0.5.1\n"
          ]
        }
      ],
      "source": [
        "pip install sklearn-genetic"
      ]
    },
    {
      "cell_type": "code",
      "source": [
        "import random\n",
        "import numpy as np\n",
        "from sklearn import datasets, linear_model\n",
        "from genetic_selection import GeneticSelectionCV\n",
        "\n",
        "# When using multiple processes (n_jobs != 1), protect the entry point of the program if necessary\n",
        "if __name__ == \"__main__\":\n",
        "\n",
        "    # Set seed for reproducibility\n",
        "    random.seed(42)\n",
        "    np.random.seed(42)\n",
        "\n",
        "    iris = datasets.load_iris()\n",
        "\n",
        "    # Some noisy data not correlated\n",
        "    E = np.random.uniform(0, 0.1, size=(len(iris.data), 20))\n",
        "\n",
        "    X = np.hstack((iris.data, E))\n",
        "    y = iris.target\n",
        "\n",
        "    estimator = linear_model.LogisticRegression(solver=\"liblinear\", multi_class=\"ovr\")\n",
        "\n",
        "    selector = GeneticSelectionCV(\n",
        "        estimator,\n",
        "        cv=5,\n",
        "        verbose=1,\n",
        "        scoring=\"accuracy\",\n",
        "        max_features=5,\n",
        "        n_population=50,\n",
        "        crossover_proba=0.5,\n",
        "        mutation_proba=0.2,\n",
        "        n_generations=40,\n",
        "        crossover_independent_proba=0.5,\n",
        "        mutation_independent_proba=0.05,\n",
        "        tournament_size=3,\n",
        "        n_gen_no_change=10,\n",
        "        caching=True,\n",
        "        n_jobs=-1,\n",
        "    )\n",
        "    model = selector.fit(X, y)\n",
        "\n"
      ],
      "metadata": {
        "colab": {
          "base_uri": "https://localhost:8080/"
        },
        "id": "VhVWB3y78D_V",
        "outputId": "05e2cfad-57fd-4847-f519-4f386cbf90e1"
      },
      "execution_count": null,
      "outputs": [
        {
          "output_type": "stream",
          "name": "stdout",
          "text": [
            "Selecting features with genetic algorithm.\n",
            "gen\tnevals\tavg                            \tstd                            \tmin                            \tmax                            \n",
            "0  \t50    \t[ 0.515067  2.9       0.054454]\t[ 0.216365  1.345362  0.022473]\t[ 0.206667  1.        0.021082]\t[ 0.873333  5.        0.13433 ]\n",
            "1  \t25    \t[ 0.677733  3.3       0.046691]\t[ 0.183112  1.236932  0.01615 ]\t[ 0.313333  1.        0.01633 ]\t[ 0.893333  5.        0.080554]\n",
            "2  \t32    \t[-1199.323333     3.7       1200.042246]\t[ 3249.865241     1.360147  3249.599761]\t[-10000.            1.            0.026667]\t[     0.92      7.    10000.  ]\n",
            "3  \t25    \t[-599.2         3.7       600.049747]   \t[ 2375.070535     1.153256  2374.855849]\t[-10000.            1.            0.026667]\t[     0.933333      7.        10000.      ]\n",
            "4  \t31    \t[-399.144       3.76      400.051589]   \t[ 1959.766525     0.991161  1959.581264]\t[-10000.            1.            0.026667]\t[     0.933333      6.        10000.      ]\n",
            "5  \t29    \t[-599.1536      3.98      600.043496]   \t[ 2375.082257     1.14      2374.857428]\t[-10000.            2.            0.026667]\t[     0.933333      7.        10000.      ]\n",
            "6  \t24    \t[-599.136       4.4       600.039859]   \t[ 2375.086703     1.113553  2374.858347]\t[-10000.            2.            0.026667]\t[     0.933333      8.        10000.      ]\n",
            "7  \t31    \t[-999.163333    4.76     1000.040261]   \t[ 3000.278889     1.030728  2999.98658 ]\t[-10000.           2.           0.01633]   \t[     0.933333      9.        10000.      ]\n",
            "8  \t27    \t[-1199.178933     4.6       1200.040867]\t[ 3249.918561     0.87178   3249.600271]\t[-10000.           3.           0.01633]   \t[     0.933333      7.        10000.      ]\n",
            "9  \t34    \t[-199.085333    3.94      200.046198]   \t[ 1400.130667     0.732393  1399.9934  ]\t[-10000.           3.           0.04714]   \t[     0.933333      6.        10000.      ]\n",
            "10 \t26    \t[-199.085467    3.42      200.045825]   \t[ 1400.130648     0.723602  1399.993454]\t[-10000.            2.            0.026667]\t[     0.94      6.    10000.  ]            \n",
            "11 \t30    \t[-199.084933    3.42      200.046309]   \t[ 1400.130724     0.776917  1399.993384]\t[-10000.           3.           0.04714]   \t[     0.94      6.    10000.  ]            \n",
            "12 \t30    \t[-199.0848     3.56     200.04601]      \t[ 1400.130743     0.897998  1399.993427]\t[-10000.            3.            0.026667]\t[     0.94      7.    10000.  ]            \n",
            "13 \t23    \t[-599.122533    3.86      600.045287]   \t[ 2375.090106     1.166362  2374.856976]\t[-10000.            2.            0.038873]\t[     0.96      8.    10000.  ]            \n",
            "14 \t28    \t[-799.1388      4.66      800.044611]   \t[ 2713.185947     1.012126  2712.918838]\t[-10000.            3.            0.038873]\t[     0.96      9.    10000.  ]            \n",
            "15 \t33    \t[-999.154267    4.96     1000.04339 ]   \t[ 3000.281911     0.870862  2999.985537]\t[-10000.            3.            0.038873]\t[     0.96      8.    10000.  ]            \n",
            "16 \t29    \t[-799.135467    4.98      800.0434  ]   \t[ 2713.18693      0.86      2712.919195]\t[-10000.           3.           0.01633]   \t[     0.96      9.    10000.  ]            \n",
            "17 \t36    \t[-2199.262533     5.22      2200.035323]\t[ 4142.854693     0.782049  4142.444276]\t[-10000.            3.            0.038873]\t[     0.96      7.    10000.  ]            \n",
            "18 \t32    \t[-1199.1672       4.98      1200.039064]\t[ 3249.922894     0.50951   3249.600937]\t[-10000.            4.            0.038873]\t[     0.96      6.    10000.  ]            \n",
            "19 \t30    \t[-1999.241067     5.12      2000.034735]\t[ 4000.379467     0.587878  3999.982633]\t[-10000.            4.            0.038873]\t[     0.96      7.    10000.  ]            \n",
            "20 \t29    \t[-1999.239733     5.1       2000.032171]\t[ 4000.380133     0.984886  3999.983914]\t[-10000.           3.           0.01633]   \t[     0.96     10.    10000.  ]            \n",
            "21 \t33    \t[-1599.197067     5.        1600.033232]\t[ 3666.410985     0.72111   3666.046052]\t[-10000.           4.           0.01633]   \t[     0.96      8.    10000.  ]            \n",
            "22 \t31    \t[-1199.156667     4.82      1200.03405 ]\t[ 3249.926783     0.973447  3249.602788]\t[-10000.           3.           0.01633]   \t[     0.96      8.    10000.  ]            \n",
            "23 \t35    \t[-599.0976      4.48      600.036541]   \t[ 2375.096405     0.754718  2374.859186]\t[-10000.            4.            0.038873]\t[     0.96      8.    10000.  ]            \n",
            "24 \t26    \t[-199.0604      4.18      200.038261]   \t[ 1400.134229     0.433128  1399.994534]\t[-10000.            4.            0.038873]\t[     0.96      6.    10000.  ]            \n",
            "25 \t31    \t[-599.099467    4.2       600.036459]   \t[ 2375.095933     0.72111   2374.859206]\t[-10000.           3.           0.01633]   \t[     0.96      8.    10000.  ]            \n",
            "26 \t28    \t[-399.0792      4.16      400.036867]   \t[ 1959.779752     0.542586  1959.584269]\t[-10000.           4.           0.01633]   \t[     0.96      7.    10000.  ]            \n",
            "27 \t28    \t[-999.141067    4.26     1000.03587 ]   \t[ 3000.286311     0.626418  2999.988043]\t[-10000.            4.            0.038873]\t[     0.96      6.    10000.  ]            \n",
            "28 \t29    \t[-599.100267    4.18      600.036711]   \t[ 2375.095731     0.887468  2374.859143]\t[-10000.           2.           0.01633]   \t[     0.96      9.    10000.  ]            \n",
            "29 \t29    \t[-399.0784      4.2       400.037318]   \t[ 1959.779915     0.663325  1959.584177]\t[-10000.            4.            0.038873]\t[     0.96      8.    10000.  ]            \n"
          ]
        }
      ]
    },
    {
      "cell_type": "code",
      "source": [
        "model.predict(X)"
      ],
      "metadata": {
        "colab": {
          "base_uri": "https://localhost:8080/"
        },
        "id": "LUuBQW978kO5",
        "outputId": "8f3efb3f-3610-498c-e2da-4e55db73b494"
      },
      "execution_count": null,
      "outputs": [
        {
          "output_type": "execute_result",
          "data": {
            "text/plain": [
              "array([0, 0, 0, 0, 0, 0, 0, 0, 0, 0, 0, 0, 0, 0, 0, 0, 0, 0, 0, 0, 0, 0,\n",
              "       0, 0, 0, 0, 0, 0, 0, 0, 0, 0, 0, 0, 0, 0, 0, 0, 0, 0, 0, 0, 0, 0,\n",
              "       0, 0, 0, 0, 0, 0, 1, 1, 1, 1, 1, 1, 1, 1, 1, 1, 1, 1, 1, 1, 1, 1,\n",
              "       2, 1, 1, 1, 2, 1, 1, 1, 1, 1, 1, 1, 1, 1, 1, 1, 1, 2, 2, 2, 1, 1,\n",
              "       1, 1, 1, 1, 1, 1, 1, 1, 1, 1, 1, 1, 2, 2, 2, 2, 2, 2, 2, 2, 2, 2,\n",
              "       2, 2, 2, 2, 2, 2, 2, 2, 2, 2, 2, 2, 2, 2, 2, 2, 2, 2, 2, 1, 2, 2,\n",
              "       2, 2, 2, 2, 2, 2, 2, 2, 2, 2, 2, 2, 2, 2, 2, 2, 2, 2])"
            ]
          },
          "metadata": {},
          "execution_count": 8
        }
      ]
    },
    {
      "cell_type": "code",
      "source": [
        "model.score(X,y)"
      ],
      "metadata": {
        "colab": {
          "base_uri": "https://localhost:8080/"
        },
        "id": "pS0YVegQ-mfX",
        "outputId": "42180d9b-357f-4739-8614-a5b29fe59de7"
      },
      "execution_count": null,
      "outputs": [
        {
          "output_type": "execute_result",
          "data": {
            "text/plain": [
              "0.96"
            ]
          },
          "metadata": {},
          "execution_count": 9
        }
      ]
    },
    {
      "cell_type": "code",
      "source": [
        "X[0]"
      ],
      "metadata": {
        "colab": {
          "base_uri": "https://localhost:8080/"
        },
        "id": "dGPOh9CG_xxv",
        "outputId": "e5f4e6ff-52d5-435a-973f-cd694ea011ae"
      },
      "execution_count": null,
      "outputs": [
        {
          "output_type": "execute_result",
          "data": {
            "text/plain": [
              "array([5.10000000e+00, 3.50000000e+00, 1.40000000e+00, 2.00000000e-01,\n",
              "       3.74540119e-02, 9.50714306e-02, 7.31993942e-02, 5.98658484e-02,\n",
              "       1.56018640e-02, 1.55994520e-02, 5.80836122e-03, 8.66176146e-02,\n",
              "       6.01115012e-02, 7.08072578e-02, 2.05844943e-03, 9.69909852e-02,\n",
              "       8.32442641e-02, 2.12339111e-02, 1.81824967e-02, 1.83404510e-02,\n",
              "       3.04242243e-02, 5.24756432e-02, 4.31945019e-02, 2.91229140e-02])"
            ]
          },
          "metadata": {},
          "execution_count": 10
        }
      ]
    },
    {
      "cell_type": "code",
      "source": [
        "model.predict([[5.10000000e+00, 3.50000000e+00, 1.40000000e+00, 2.00000000e-01,\n",
        "       3.74540119e-02, 9.50714306e-02, 7.31993942e-02, 5.98658484e-02,\n",
        "       1.56018640e-02, 1.55994520e-02, 5.80836122e-03, 8.66176146e-02,\n",
        "       6.01115012e-02, 7.08072578e-02, 2.05844943e-03, 9.69909852e-02,\n",
        "       8.32442641e-02, 2.12339111e-02, 1.81824967e-02, 1.83404510e-02,\n",
        "       3.04242243e-02, 5.24756432e-02, 4.31945019e-02, 2.91229140e-02]])"
      ],
      "metadata": {
        "colab": {
          "base_uri": "https://localhost:8080/"
        },
        "id": "EHBsTo7EBSfB",
        "outputId": "aeeb569a-2bf0-461c-817e-418a94a2cf29"
      },
      "execution_count": null,
      "outputs": [
        {
          "output_type": "execute_result",
          "data": {
            "text/plain": [
              "array([0])"
            ]
          },
          "metadata": {},
          "execution_count": 11
        }
      ]
    },
    {
      "cell_type": "code",
      "source": [
        "import pickle "
      ],
      "metadata": {
        "id": "RR16npZWJ_Ln"
      },
      "execution_count": null,
      "outputs": []
    },
    {
      "cell_type": "code",
      "source": [
        "with open('model_pickle','wb') as file:\n",
        "    pickle.dump(model,file)"
      ],
      "metadata": {
        "id": "ZLQrgwnFk6iB"
      },
      "execution_count": null,
      "outputs": []
    },
    {
      "cell_type": "code",
      "source": [
        "with open('model_pickle','rb') as file:\n",
        "    mp = pickle.load(file)"
      ],
      "metadata": {
        "id": "0_G7RX3ilym0"
      },
      "execution_count": null,
      "outputs": []
    },
    {
      "cell_type": "code",
      "source": [
        "X[140]"
      ],
      "metadata": {
        "id": "nGZAY1CMmxCz",
        "outputId": "b564a7be-d78e-4984-b591-7be2798f8087",
        "colab": {
          "base_uri": "https://localhost:8080/"
        }
      },
      "execution_count": null,
      "outputs": [
        {
          "output_type": "execute_result",
          "data": {
            "text/plain": [
              "array([6.70000000e+00, 3.10000000e+00, 5.60000000e+00, 2.40000000e+00,\n",
              "       7.92595116e-02, 9.07898794e-02, 9.43701593e-02, 9.60135604e-02,\n",
              "       5.21459639e-02, 9.77307908e-02, 7.57310207e-02, 1.61671436e-02,\n",
              "       4.76900106e-02, 7.18331175e-02, 2.47340316e-02, 6.40615184e-02,\n",
              "       6.66600479e-02, 1.62699744e-02, 5.65085312e-02, 7.71626911e-02,\n",
              "       4.98895665e-02, 1.21031168e-03, 9.03846908e-04, 3.57029344e-02])"
            ]
          },
          "metadata": {},
          "execution_count": 20
        }
      ]
    },
    {
      "cell_type": "code",
      "source": [
        "mp.predict([[6.70000000e+00, 3.10000000e+00, 5.60000000e+00, 2.40000000e+00,\n",
        "       7.92595116e-02, 9.07898794e-02, 9.43701593e-02, 9.60135604e-02,\n",
        "       5.21459639e-02, 9.77307908e-02, 7.57310207e-02, 1.61671436e-02,\n",
        "       4.76900106e-02, 7.18331175e-02, 2.47340316e-02, 6.40615184e-02,\n",
        "       6.66600479e-02, 1.62699744e-02, 5.65085312e-02, 7.71626911e-02,\n",
        "       4.98895665e-02, 1.21031168e-03, 9.03846908e-04, 3.57029344e-02]])\n"
      ],
      "metadata": {
        "id": "KHhSWMeemWxI",
        "outputId": "d2ca1f47-2b88-461e-e296-f270da475c3c",
        "colab": {
          "base_uri": "https://localhost:8080/"
        }
      },
      "execution_count": null,
      "outputs": [
        {
          "output_type": "execute_result",
          "data": {
            "text/plain": [
              "array([2])"
            ]
          },
          "metadata": {},
          "execution_count": 21
        }
      ]
    },
    {
      "cell_type": "code",
      "source": [
        ""
      ],
      "metadata": {
        "id": "mc56jOE5mc6j"
      },
      "execution_count": null,
      "outputs": []
    }
  ]
}